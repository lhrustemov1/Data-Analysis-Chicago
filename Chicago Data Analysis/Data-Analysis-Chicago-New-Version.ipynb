{
 "cells": [
  {
   "cell_type": "code",
   "execution_count": 1,
   "id": "4040afb9",
   "metadata": {},
   "outputs": [],
   "source": [
    "import pandas as pd\n",
    "import matplotlib.pyplot as plt\n",
    "import math\n",
    "import re\n",
    "import numpy as np"
   ]
  },
  {
   "cell_type": "code",
   "execution_count": 2,
   "id": "85934b25",
   "metadata": {},
   "outputs": [],
   "source": [
    "def calculate_frequency(column):\n",
    "    count = column.value_counts()\n",
    "    frequency = column.value_counts()/df.shape[0]\n",
    "#     print(\"\\n By numbers: \\n\", count)\n",
    "#     print(\"\\n Frequencies: \\n \", frequency)\n",
    "    return count, frequency"
   ]
  },
  {
   "cell_type": "code",
   "execution_count": 3,
   "id": "0c51d0f9",
   "metadata": {},
   "outputs": [],
   "source": [
    "def draw_pie_chart (names, percentages):\n",
    "    x = names.head(10).index\n",
    "    y = percentages.head(10)\n",
    "    porcent = percentages*100\n",
    "    patches, texts = plt.pie(y, startangle=90, radius=1.2)\n",
    "    labels = ['{0} - {1:1.2f} %'.format(i,j) for i,j in zip(x, porcent)]\n",
    "    sort_legend = True\n",
    "    if sort_legend:\n",
    "        patches, labels, dummy =  zip(*sorted(zip(patches, labels, y),\n",
    "                                              key=lambda x: x[2],\n",
    "                                              reverse=True))\n",
    "\n",
    "    plt.legend(patches, labels, loc='best', bbox_to_anchor=(-0.1, 1.),\n",
    "               fontsize=15)\n",
    "\n",
    "    plt.savefig('piechart.png', bbox_inches='tight')"
   ]
  },
  {
   "cell_type": "code",
   "execution_count": 4,
   "id": "21cca2d2",
   "metadata": {},
   "outputs": [],
   "source": [
    "def is_valid_date(year, month, day):\n",
    "    day_count_for_month = [31, 28, 31, 30, 31, 30, 31, 31, 30, 31, 30, 31]\n",
    "    if year%4==0 and (year%100 != 0 or year%400==0):\n",
    "        day_count_for_month[1] = 29\n",
    "    return (1 <= month <= 12 and 1 <= day <= day_count_for_month[month-1])"
   ]
  },
  {
   "cell_type": "code",
   "execution_count": 85,
   "id": "ba12af03",
   "metadata": {},
   "outputs": [],
   "source": [
    "def is_expired(day, month, year):\n",
    "    date = datetime(year, month, day)\n",
    "    reference_date = datetime(2024, 4, 14)\n",
    "    return date < reference_date"
   ]
  },
  {
   "cell_type": "code",
   "execution_count": 98,
   "id": "68f0dfec",
   "metadata": {},
   "outputs": [],
   "source": [
    "def cleaning_nonblank_attributes(df, should_print): \n",
    "    \n",
    "    df_copy = df.copy()\n",
    "    \n",
    "    df_copy = df_copy.loc[df_copy['APPLICATION TYPE']!='C_SBA']\n",
    "    if(should_print):\n",
    "        print(\"Length after cleaning APPLICATION TYPE: \", len(df_copy))\n",
    "            \n",
    "    df_copy = df_copy.loc[(df_copy['CITY']=='CHICAGO') & (df_copy['STATE']=='IL')]\n",
    "    if(should_print):\n",
    "        print(\"Length after cleaning CITY and STATE: \", len(df_copy))\n",
    "        \n",
    "    df_copy = df_copy[~df_copy['ID'].isin(unstandardized_id)]\n",
    "    \n",
    "    if(should_print):\n",
    "        print(\"Length after cleaning ID: \", len(df_copy))\n",
    "    df_copy = df_copy[~df_copy['ADDRESS'].isin(redacted_address)]\n",
    "    df_copy = df_copy[~df_copy['ADDRESS'].isin(unstandardized_address)]\n",
    "    df_copy = df_copy[~df_copy['ADDRESS'].isin(not_all_uppercase_address)]\n",
    "    df_copy = df_copy[~df_copy['LEGAL NAME'].isin(not_all_uppercase_legal_names)]\n",
    "    \n",
    "    if(should_print):\n",
    "        print(\"Length after cleaning ADDRESS: \", len(df_copy))\n",
    "        \n",
    "    df_copy = df_copy[~df_copy['LEGAL NAME'].isin(not_all_uppercase_legal_names)]\n",
    "    \n",
    "    if(should_print):\n",
    "        print(\"Length after cleaning LEGAL NAME: \", len(df_copy))\n",
    "\n",
    "    return df_copy\n"
   ]
  },
  {
   "cell_type": "code",
   "execution_count": 6,
   "id": "f44a704e",
   "metadata": {},
   "outputs": [],
   "source": [
    "def ommiting_blank_from_high_quality_data (df, should_print):\n",
    "    \n",
    "    df_copy = df.copy()\n",
    "   \n",
    "    df_copy.dropna(subset=['DOING BUSINESS AS NAME'], inplace=True)\n",
    "    if(should_print):\n",
    "        print(\"Length after ommiting blank DOING BUSINESS AS NAME attributes: \", len(df_copy))\n",
    "\n",
    "#     df_copy.dropna(subset=['ZIP CODE'], inplace=True)\n",
    "#     if(should_print):\n",
    "#         print(\"Length after ommiting blank ZIP CODE attributes: \", len(df_copy))\n",
    "        \n",
    "#     df_copy.dropna(subset=['WARD'], inplace=True)\n",
    "#     if(should_print):\n",
    "#         print(\"Length after ommiting blank WARD attributes: \", len(df_copy))\n",
    "\n",
    "#     df_copy.dropna(subset=['PRECINCT'], inplace=True)\n",
    "#     if(should_print):\n",
    "#         print(\"Length after ommiting blank PRECINCT attributes: \", len(df_copy))\n",
    " \n",
    "#     df_copy.dropna(subset=['WARD PRECINCT'], inplace=True)\n",
    "#     if(should_print):\n",
    "#         print(\"Length after ommiting blank WARD PRECINCT attributes: \", len(df_copy))\n",
    "        \n",
    "#     df_copy.dropna(subset=['POLICE DISTRICT'], inplace=True)\n",
    "#     if(should_print):\n",
    "#         print(\"Length after ommiting blank POLICE DISTRICT attributes: \", len(df_copy))\n",
    "        \n",
    "    df_copy.dropna(subset=['BUSINESS ACTIVITY ID'], inplace=True)\n",
    "    if(should_print):\n",
    "        print(\"Length after ommiting blank BUSINESS ACTIVITY ID attributes: \", len(df_copy))\n",
    "\n",
    "    df_copy.dropna(subset=['BUSINESS ACTIVITY'], inplace=True)\n",
    "    if(should_print):\n",
    "        print(\"Length after ommiting blank BUSINESS ACTIVITY attributes: \", len(df_copy))\n",
    "\n",
    "#     df_copy.dropna(subset=['APPLICATION REQUIREMENTS COMPLETE'], inplace=True)\n",
    "#     if(should_print):\n",
    "#         print(\"Length after ommiting blank APPLICATION REQUIREMENTS COMPLETE attributes: \", len(df_copy))\n",
    "        \n",
    "#     df_copy.dropna(subset=['PAYMENT DATE'], inplace=True)\n",
    "#     if(should_print):\n",
    "#         print(\"Length after ommiting blank PAYMENT DATE attributes: \", len(df_copy))\n",
    "        \n",
    "#     df_copy.dropna(subset=['LICENSE TERM START DATE'], inplace=True)\n",
    "#     if(should_print):\n",
    "#         print(\"Length after ommiting blank LICENSE TERM START DATE attributes: \", len(df_copy))\n",
    "\n",
    "#     df_copy.dropna(subset=['LICENSE APPROVED FOR ISSUANCE'], inplace=True)\n",
    "#     if(should_print):\n",
    "#         print(\"Length after ommiting blank LICENSE APPROVED FOR ISSUANCE attributes: \", len(df_copy))\n",
    "\n",
    "    df_copy.dropna(subset=['LATITUDE'], inplace=True)\n",
    "    if(should_print):\n",
    "        print(\"Length after ommiting blank LATITUDE attributes: \", len(df_copy))\n",
    "        \n",
    "    df_copy.dropna(subset=['LONGITUDE'], inplace=True)\n",
    "    if(should_print):\n",
    "        print(\"Length after ommiting blank LONGITUDE attributes: \", len(df_copy))\n",
    "        \n",
    "    df_copy.dropna(subset=['LOCATION'], inplace=True)\n",
    "    if(should_print):\n",
    "        print(\"Length after ommiting blank LOCATIONE attributes: \", len(df_copy))\n",
    "\n",
    "    \n",
    "    return df_copy"
   ]
  },
  {
   "cell_type": "code",
   "execution_count": 7,
   "id": "ca744be1",
   "metadata": {},
   "outputs": [],
   "source": [
    "def final_cleaning_high_quality_data(df, should_print):\n",
    "    \n",
    "    df_copy = df.copy()\n",
    "\n",
    "    \n",
    "    df_copy = df_copy[~df_copy['DOING BUSINESS AS NAME'].isin(not_all_uppercase_bus_as_name)]\n",
    "    if(should_print):\n",
    "        print(\"Length after cleaning Doing Business as Name: \", len(df_copy))\n",
    "        \n",
    "    df_copy = df_copy[~df_copy['ZIP CODE'].isin(invalid_zip_codes)] \n",
    "    if(should_print):\n",
    "        print(\"Length after cleaning invalid ZIP CODE: \", len(df_copy))\n",
    "\n",
    "\n",
    "        \n",
    "#     precincts_by_ward = [ # Ward 1 has 26 Precincts, Ward 2 has 25 Precincts, etc.\n",
    "#         26, 25, 27, 28, 25, 27, 31, 30, 30, 25, \n",
    "#         23, 22, 40, 15, 20, 25, 29, 26, 36, 23, \n",
    "#         29, 19, 33, 20, 17, 32, 29, 26, 24, 26, \n",
    "#         23, 30, 17, 20, 22, 27, 22, 25, 35, 23, \n",
    "#         31, 24, 23, 21, 29, 23, 28, 35, 17, 28\n",
    "#     ]\n",
    "\n",
    "\n",
    "#     for i in range(len(df_copy['WARD'])):\n",
    "#         index_of_precinct = int(df_copy.iloc[i]['WARD']) - 1 \n",
    "#         if(int(df_copy.iloc[i]['PRECINCT'])<0 or int(df_copy.iloc[i]['PRECINCT'])>precincts_by_ward[index_of_precinct]):\n",
    "#             print(\" ward vs precinct that don't match: \", df_copy.iloc[i]['WARD'], \" \",df_copy.iloc[i]['PRECINCT'] )\n",
    "#             ID_to_drop.append(df_copy.iloc[i]['ID'])\n",
    "#         else:\n",
    "#             pass\n",
    "\n",
    "#    precincts_dict = {index + 1: precincts for index, precincts in enumerate(precincts_by_ward)}\n",
    "\n",
    "    ID_to_drop = []\n",
    "\n",
    "#     for i in range(len(df_copy['WARD'])):\n",
    "#             if(pd.isna(df_copy.iloc[i]['WARD'])==False and pd.isna(df_copy.iloc[i]['PRECINCT'])==False):\n",
    "#                 if(int(df_copy.iloc[i]['PRECINCT'])<0 or int(df_copy.iloc[i]['PRECINCT'])>precincts_dict[df_copy.iloc[i]['WARD']]):\n",
    "#                     ID_to_drop.append(df_copy.iloc[i]['ID'])\n",
    "#                 else:\n",
    "#                     pass\n",
    "\n",
    "    df_copy_2 = df_copy[~df_copy['ID'].isin(ID_to_drop)].copy()\n",
    "    \n",
    "       \n",
    "    if(should_print):\n",
    "        print(\"Length after cleaning invalid PRECINCT: \", len(df_copy_2))\n",
    "\n",
    "    df_copy_2 = df_copy_2[~df_copy_2['POLICE DISTRICT'].isin(invalid_pol_district)]\n",
    "    if(should_print):\n",
    "        print(\"Length after cleaning invalid POLICE DISTRICT: \", len(df_copy_2))\n",
    "        \n",
    "    df_copy_2 = df_copy_2[~df_copy_2['SSA'].isin(ssa_chicago_invalid)]\n",
    "    if(should_print):\n",
    "        print(\"Length after cleaning invalid SSA: \", len(df_copy_2))\n",
    "\n",
    "    df_copy_2 = df_copy_2[~df_copy_2['LOCATION'].isin(invalid_loc)]\n",
    "    if(should_print):\n",
    "        print(\"Length after cleaning invalid LOCATION: \", len(df_copy_2))\n",
    "    \n",
    "\n",
    "    \n",
    "    return df_copy_2"
   ]
  },
  {
   "cell_type": "code",
   "execution_count": 188,
   "id": "b38e2b08",
   "metadata": {},
   "outputs": [],
   "source": [
    "def cleaning_invalid_important_attributes(df, should_print):\n",
    "    \n",
    "    df_copy = df.copy()\n",
    "    \n",
    "    df_copy = df_copy[~df_copy['ID'].isin(unstandardized_id)]\n",
    "    if(should_print):\n",
    "        print(\"Length after cleaning ID: \", len(df_copy))\n",
    "        \n",
    "    df_copy = df_copy.loc[df_copy['APPLICATION TYPE']!='C_SBA']\n",
    "    if(should_print):\n",
    "        print(\"Length after cleaning APPLICATION TYPE: \", len(df_copy))\n",
    "            \n",
    "    df_copy = df_copy.loc[(df_copy['CITY']=='CHICAGO') & (df_copy['STATE']=='IL')]\n",
    "    if(should_print):\n",
    "        print(\"Length after cleaning CITY and STATE: \", len(df_copy))\n",
    "        \n",
    "    df_copy = df_copy[~df_copy['ADDRESS'].isin(redacted_address)]\n",
    "    df_copy = df_copy[~df_copy['ADDRESS'].isin(unstandardized_address)]\n",
    "#    df_copy = df_copy[~df_copy['ADDRESS'].isin(not_all_uppercase_address)]\n",
    "    \n",
    "    if(should_print):\n",
    "        print(\"Length after cleaning ADDRESS: \", len(df_copy))\n",
    "        \n",
    "#    df_copy = df_copy[~df_copy['DOING BUSINESS AS NAME'].isin(not_all_uppercase_bus_as_name)]\n",
    "#     if(should_print):\n",
    "#         print(\"Length after cleaning Doing Business as Name: \", len(df_copy))\n",
    "        \n",
    "\n",
    "    df_copy.dropna(subset=['BUSINESS ACTIVITY'], inplace=True)\n",
    "    if(should_print):\n",
    "        print(\"Length after ommiting blank BUSINESS ACTIVITY attributes: \", len(df_copy))\n",
    "        \n",
    "    df_copy = df_copy[~df_copy['LOCATION'].isin(invalid_loc)]\n",
    "    if(should_print):\n",
    "        print(\"Length after cleaning invalid LOCATION: \", len(df_copy))\n",
    "\n",
    "    return df_copy\n"
   ]
  },
  {
   "cell_type": "code",
   "execution_count": 8,
   "id": "e6789172",
   "metadata": {},
   "outputs": [],
   "source": [
    "def percentage(df1, df):\n",
    "    p = len(df1)/len(df)*100.0\n",
    "    print(\"{:.2f} %\".format(p))\n",
    "    return p"
   ]
  },
  {
   "cell_type": "code",
   "execution_count": 9,
   "id": "e879ed8e",
   "metadata": {},
   "outputs": [],
   "source": [
    "def addlabels(x, y):\n",
    "    for i in range(len(y)):\n",
    "        if(i==0):\n",
    "            plt.text(porcent[i]+5, i-0.3, str(round(porcent[i]))+'%', ha = 'center')\n",
    "        elif(i>0 and i<6):\n",
    "            plt.text(porcent[i]+4, i-0.3, str(round(porcent[i]))+'%', ha = 'center')\n",
    "        elif(i>5 and i<13):\n",
    "            plt.text(porcent[i]+3, i-0.3, str(round(porcent[i]))+'%', ha = 'center')\n",
    "        elif(i>12 and i<16):\n",
    "            plt.text(porcent[i]+5.2, i-0.3, str(round(porcent[i], 2))+'%', ha = 'center')\n",
    "        elif(i==16 or i==17):\n",
    "            plt.text(porcent[i]+6.5, i-0.3, str('<0.01')+'%', ha = 'center')"
   ]
  },
  {
   "cell_type": "code",
   "execution_count": 10,
   "id": "d5f8526d",
   "metadata": {},
   "outputs": [],
   "source": [
    "def make_table(c, f):\n",
    "    \n",
    "    list1 = f.index.tolist()[:5]\n",
    "\n",
    "    help_list1 = f.values.tolist()[:5]\n",
    "    help_list2 = c.values.tolist()[:5]\n",
    "\n",
    "    for i in range(len(help_list1)):\n",
    "        help_list1[i] = format(help_list1[i], '.3f')\n",
    "\n",
    "\n",
    "    list2 = []\n",
    "    for i in range(len(help_list1)):\n",
    "        list2.append(str(help_list2[i])+' ('+ str(help_list1[i])+'%)')\n",
    "\n",
    "\n",
    "    table = []\n",
    "    for name, frequency in zip(list1, list2):\n",
    "        table.append([name, frequency])\n",
    "\n",
    "    return table"
   ]
  },
  {
   "cell_type": "code",
   "execution_count": 11,
   "id": "0f03ee2b",
   "metadata": {},
   "outputs": [],
   "source": [
    "# Columns (1, 2, 9) have mixed types error. Two solutions: low_memory = False or specify dtype. \n",
    "# If I specify them - loading will crash when incorrect dtype appears\n",
    "df = pd.read_csv('C:/Users/lejla/OneDrive/Documents/GitHub/Data-Analysis-Chicago/Business_Licenses_-_Current_Active_20240312.csv', low_memory = False)"
   ]
  },
  {
   "cell_type": "code",
   "execution_count": 12,
   "id": "9377354e",
   "metadata": {},
   "outputs": [
    {
     "name": "stdout",
     "output_type": "stream",
     "text": [
      "Index(['ID', 'LICENSE ID', 'ACCOUNT NUMBER', 'SITE NUMBER', 'LEGAL NAME',\n",
      "       'DOING BUSINESS AS NAME', 'ADDRESS', 'CITY', 'STATE', 'ZIP CODE',\n",
      "       'WARD', 'PRECINCT', 'WARD PRECINCT', 'POLICE DISTRICT', 'LICENSE CODE',\n",
      "       'LICENSE DESCRIPTION', 'BUSINESS ACTIVITY ID', 'BUSINESS ACTIVITY',\n",
      "       'LICENSE NUMBER', 'APPLICATION TYPE', 'APPLICATION CREATED DATE',\n",
      "       'APPLICATION REQUIREMENTS COMPLETE', 'PAYMENT DATE',\n",
      "       'CONDITIONAL APPROVAL', 'LICENSE TERM START DATE',\n",
      "       'LICENSE TERM EXPIRATION DATE', 'LICENSE APPROVED FOR ISSUANCE',\n",
      "       'DATE ISSUED', 'LICENSE STATUS', 'LICENSE STATUS CHANGE DATE', 'SSA',\n",
      "       'LATITUDE', 'LONGITUDE', 'LOCATION'],\n",
      "      dtype='object')\n"
     ]
    }
   ],
   "source": [
    "print(df.columns)"
   ]
  },
  {
   "cell_type": "markdown",
   "id": "6f2366e7",
   "metadata": {},
   "source": [
    "## Task 1 \n",
    "### Completeness and empty values"
   ]
  },
  {
   "cell_type": "code",
   "execution_count": 127,
   "id": "b143d0b0",
   "metadata": {
    "scrolled": true
   },
   "outputs": [],
   "source": [
    "# Counting NA values in all columns\n",
    "nan_col_count = df.isna().sum()\n",
    "nan_col_count_sorted = nan_col_count.sort_values(ascending=False)\n",
    "#print(nan_col_count_sorted)"
   ]
  },
  {
   "cell_type": "code",
   "execution_count": 128,
   "id": "a5533674",
   "metadata": {},
   "outputs": [
    {
     "name": "stdout",
     "output_type": "stream",
     "text": [
      "Number of rows:  54501\n"
     ]
    }
   ],
   "source": [
    "# Number of rows\n",
    "df_no_rows = df.shape[0]\n",
    "print(\"Number of rows: \", df_no_rows)"
   ]
  },
  {
   "cell_type": "code",
   "execution_count": 129,
   "id": "325781df",
   "metadata": {
    "scrolled": false
   },
   "outputs": [],
   "source": [
    "nan_col_count_sorted_no_zeros = nan_col_count_sorted[nan_col_count_sorted!=0]\n",
    "nan_col_count_sorted_zero_nan_values = nan_col_count_sorted[nan_col_count_sorted==0]\n",
    "#print(\"Columns that have some NaN values are named: \", nan_col_count_sorted_no_zeros.index)\n",
    "#print(\"Columns that have 0 NaN values are named: \", nan_col_count_sorted_zero_nan_values.index)"
   ]
  },
  {
   "cell_type": "markdown",
   "id": "9d614b73",
   "metadata": {},
   "source": [
    "#### Columns that have 0 blank values are"
   ]
  },
  {
   "cell_type": "code",
   "execution_count": 130,
   "id": "9a31f91e",
   "metadata": {},
   "outputs": [
    {
     "name": "stdout",
     "output_type": "stream",
     "text": [
      "['ACCOUNT NUMBER', 'SITE NUMBER', 'LEGAL NAME', 'LICENSE STATUS', 'DATE ISSUED', 'LICENSE TERM EXPIRATION DATE', 'CONDITIONAL APPROVAL', 'STATE', 'ADDRESS', 'APPLICATION TYPE', 'LICENSE NUMBER', 'LICENSE ID', 'CITY', 'LICENSE DESCRIPTION', 'LICENSE CODE', 'ID']\n",
      "╒════════════════╤══════════════════════════════╤══════════════════════╤════════════════╕\n",
      "│ ACCOUNT NUMBER │ SITE NUMBER                  │ LEGAL NAME           │ LICENSE STATUS │\n",
      "├────────────────┼──────────────────────────────┼──────────────────────┼────────────────┤\n",
      "│ DATE ISSUED    │ LICENSE TERM EXPIRATION DATE │ CONDITIONAL APPROVAL │ STATE          │\n",
      "├────────────────┼──────────────────────────────┼──────────────────────┼────────────────┤\n",
      "│ ADDRESS        │ APPLICATION TYPE             │ LICENSE NUMBER       │ LICENSE ID     │\n",
      "├────────────────┼──────────────────────────────┼──────────────────────┼────────────────┤\n",
      "│ CITY           │ LICENSE DESCRIPTION          │ LICENSE CODE         │ ID             │\n",
      "╘════════════════╧══════════════════════════════╧══════════════════════╧════════════════╛\n"
     ]
    }
   ],
   "source": [
    "from tabulate import tabulate\n",
    "\n",
    "lista = []\n",
    "lista = nan_col_count_sorted_zero_nan_values.index.tolist() \n",
    "print(lista)\n",
    "\n",
    "first_col = lista[0:4]\n",
    "second_col = lista[4:8]\n",
    "third_col = lista[8:12]\n",
    "fourth_col = lista[12:16]\n",
    "\n",
    "table = [first_col, second_col, third_col, fourth_col]\n",
    "print(tabulate(table, tablefmt='fancy_grid'))"
   ]
  },
  {
   "cell_type": "code",
   "execution_count": 19,
   "id": "0fe4fade",
   "metadata": {
    "scrolled": true
   },
   "outputs": [
    {
     "data": {
      "image/png": "[encoded data removed]",
      "text/plain": [
       "<Figure size 640x480 with 1 Axes>"
      ]
     },
     "metadata": {},
     "output_type": "display_data"
    }
   ],
   "source": [
    "\n",
    "\n",
    "x = nan_col_count_sorted_no_zeros.index\n",
    "y = nan_col_count_sorted_no_zeros\n",
    "\n",
    "porcent = 100.*y/df_no_rows \n",
    "\n",
    "ticks = [0, 20, 40, 60, 80, 100, 110]\n",
    "plt.barh(x, porcent)\n",
    "plt.ylabel(\"Attribute names\")\n",
    "plt.xlabel(\"Percentage of blank values [%]\") \n",
    "plt.title(\"Blank values in the dataset\")\n",
    "addlabels(x, y)\n",
    "plt.xlim([0, 110]) \n",
    "plt.xticks(ticks[:-1])\n",
    "plt.show() "
   ]
  },
  {
   "cell_type": "code",
   "execution_count": 160,
   "id": "24f7e970",
   "metadata": {},
   "outputs": [
    {
     "data": {
      "image/png": "[encoded data removed]",
      "text/plain": [
       "<Figure size 640x480 with 1 Axes>"
      ]
     },
     "metadata": {},
     "output_type": "display_data"
    }
   ],
   "source": [
    "import matplotlib.pyplot as plt\n",
    "\n",
    "# Assuming nan_col_count_sorted_no_zeros is a dictionary where keys are attribute names\n",
    "# and values are the corresponding counts of NaN values\n",
    "\n",
    "# Filter the data for 'LATITUDE', 'LONGITUDE', 'LOCATION', 'DOING BUSINESS AS NAME', and 'BUSINESS ACTIVITY'\n",
    "selected_attributes = ['LATITUDE', 'LONGITUDE', 'LOCATION', 'DOING BUSINESS AS NAME', 'BUSINESS ACTIVITY']\n",
    "filtered_data = {attr: nan_col_count_sorted_no_zeros[attr] for attr in selected_attributes}\n",
    "\n",
    "# Sort the filtered data by percentage in descending order\n",
    "sorted_data = dict(sorted(filtered_data.items(), key=lambda item: item[1], reverse=True))\n",
    "\n",
    "x = list(sorted_data.keys())  # Convert dictionary keys to a list\n",
    "y = list(sorted_data.values())  # Convert dictionary values to a list\n",
    "\n",
    "porcent = [100. * val / df_no_rows for val in y]  # Calculate percentages\n",
    "\n",
    "ticks = [0, 20, 40, 60, 80, 100, 110]\n",
    "plt.barh(x, porcent)\n",
    "plt.ylabel(\"Attribute names\")\n",
    "plt.xlabel(\"Percentage of blank values [%]\") \n",
    "plt.title(\"Blank values in the dataset\")\n",
    "\n",
    "# Add labels to the bars with adjusted formatting\n",
    "for i, (attr, percent) in enumerate(zip(x, porcent)):\n",
    "    rounded_percent = round(percent)\n",
    "    if rounded_percent == 0:\n",
    "        plt.text(0.5, i, \"0.2%\", va='center')  # Place label \"<0.01\" at the middle of the bar\n",
    "    else:\n",
    "        plt.text(percent, i, f' {rounded_percent}%', va='center')\n",
    "\n",
    "plt.xlim([0, 110]) \n",
    "plt.xticks(ticks[:-1])\n",
    "plt.show()\n"
   ]
  },
  {
   "cell_type": "markdown",
   "id": "8220462d",
   "metadata": {},
   "source": [
    "# Frequencies"
   ]
  },
  {
   "cell_type": "code",
   "execution_count": 20,
   "id": "210236de",
   "metadata": {
    "scrolled": false
   },
   "outputs": [],
   "source": [
    "c, f = calculate_frequency(df['CITY']);"
   ]
  },
  {
   "cell_type": "markdown",
   "id": "5279c3c7",
   "metadata": {},
   "source": [
    "92.04 % of the data given is for the city of Chicago, 8% of the data are other cities."
   ]
  },
  {
   "cell_type": "code",
   "execution_count": 179,
   "id": "7b17ea47",
   "metadata": {
    "scrolled": true
   },
   "outputs": [],
   "source": [
    "# Data which I input, since Chicago is 92% and others which sum up to 8% are too small to show on pie chart\n",
    "labels = ['Chicago', 'Others']\n",
    "sizes = [92, 8]"
   ]
  },
  {
   "cell_type": "code",
   "execution_count": 180,
   "id": "c20fed4e",
   "metadata": {
    "scrolled": true
   },
   "outputs": [
    {
     "data": {
      "image/png": "[encoded data removed]",
      "text/plain": [
       "<Figure size 640x480 with 1 Axes>"
      ]
     },
     "metadata": {},
     "output_type": "display_data"
    }
   ],
   "source": [
    "patches, texts = plt.pie(sizes, startangle=90, radius=1.2)\n",
    "\n",
    "labels_new = ['{0} - {1:d} %'.format(i,j) for i,j in zip(labels, sizes)]\n",
    "plt.legend(patches, labels_new, loc='best', bbox_to_anchor=(-0.1, 1.), fontsize=15)\n",
    "    \n",
    "plt.savefig('piechart.png', bbox_inches='tight')\n",
    "plt.title('Frequency of City attribute');\n"
   ]
  },
  {
   "cell_type": "code",
   "execution_count": 23,
   "id": "13a21990",
   "metadata": {
    "scrolled": false
   },
   "outputs": [
    {
     "data": {
      "image/png": "[encoded data removed]",
      "text/plain": [
       "<Figure size 640x480 with 1 Axes>"
      ]
     },
     "metadata": {},
     "output_type": "display_data"
    }
   ],
   "source": [
    "c, f = calculate_frequency(df['SITE NUMBER'])\n",
    "draw_pie_chart (c, f)\n",
    "plt.title('Frequency of Site Number');"
   ]
  },
  {
   "cell_type": "code",
   "execution_count": 24,
   "id": "a14d975b",
   "metadata": {
    "scrolled": false
   },
   "outputs": [
    {
     "name": "stdout",
     "output_type": "stream",
     "text": [
      "╒════════════════════════════════════╤═════════════════════════════════╕\n",
      "│ Legal Name                         │ Record count (Percentage) [%]   │\n",
      "╞════════════════════════════════════╪═════════════════════════════════╡\n",
      "│ SP PLUS CORPORATION                │ 210 (0.004%)                    │\n",
      "├────────────────────────────────────┼─────────────────────────────────┤\n",
      "│ WALGREEN CO.                       │ 200 (0.004%)                    │\n",
      "├────────────────────────────────────┼─────────────────────────────────┤\n",
      "│ BOND DRUG COMPANY OF ILLINOIS, LLC │ 138 (0.003%)                    │\n",
      "├────────────────────────────────────┼─────────────────────────────────┤\n",
      "│ STARBUCKS CORPORATION              │ 126 (0.002%)                    │\n",
      "├────────────────────────────────────┼─────────────────────────────────┤\n",
      "│ COMPASS GROUP USA, INC.            │ 124 (0.002%)                    │\n",
      "╘════════════════════════════════════╧═════════════════════════════════╛\n"
     ]
    }
   ],
   "source": [
    "c, f = calculate_frequency(df['LEGAL NAME'])\n",
    "table = make_table(c,f)\n",
    "print(tabulate(table, headers=['Legal Name', 'Record count (Percentage) [%]'], tablefmt='fancy_grid'))"
   ]
  },
  {
   "cell_type": "code",
   "execution_count": 25,
   "id": "cb0115b6",
   "metadata": {
    "scrolled": true
   },
   "outputs": [
    {
     "name": "stdout",
     "output_type": "stream",
     "text": [
      "╒══════════════════════════╤═════════════════════════════════╕\n",
      "│ Doing Business as Name   │ Record count (Percentage) [%]   │\n",
      "╞══════════════════════════╪═════════════════════════════════╡\n",
      "│ SUBWAY                   │ 121 (0.002%)                    │\n",
      "├──────────────────────────┼─────────────────────────────────┤\n",
      "│ DUNKIN DONUTS            │ 98 (0.002%)                     │\n",
      "├──────────────────────────┼─────────────────────────────────┤\n",
      "│ STANDARD PARKING         │ 94 (0.002%)                     │\n",
      "├──────────────────────────┼─────────────────────────────────┤\n",
      "│ SHELL                    │ 87 (0.002%)                     │\n",
      "├──────────────────────────┼─────────────────────────────────┤\n",
      "│ BP                       │ 80 (0.001%)                     │\n",
      "╘══════════════════════════╧═════════════════════════════════╛\n"
     ]
    }
   ],
   "source": [
    "c, f = calculate_frequency(df['DOING BUSINESS AS NAME'])\n",
    "table = make_table(c,f)\n",
    "print(tabulate(table, headers=['Doing Business as Name', 'Record count (Percentage) [%]'], tablefmt='fancy_grid'))"
   ]
  },
  {
   "cell_type": "code",
   "execution_count": 170,
   "id": "bd9a05ec",
   "metadata": {
    "scrolled": true
   },
   "outputs": [
    {
     "data": {
      "image/png": "[encoded data removed]",
      "text/plain": [
       "<Figure size 640x480 with 1 Axes>"
      ]
     },
     "metadata": {},
     "output_type": "display_data"
    }
   ],
   "source": [
    "c, f = calculate_frequency(df['STATE'])\n",
    "\n",
    "# Data which I input because it was more convenient since Illinois is 97% and others that sum up to 3% are to small to show\n",
    "labels = ['Illinois', 'Others']\n",
    "sizes = [98, 2]\n",
    "\n",
    "patches, texts = plt.pie(sizes, startangle=90, radius=1.2)\n",
    "labels_new = ['{0} - {1:d} %'.format(i,j) for i,j in zip(labels, sizes)]\n",
    "\n",
    "plt.legend(patches, labels_new, loc='best', bbox_to_anchor=(-0.1, 1.), fontsize=15)\n",
    "    \n",
    "plt.savefig('piechart.png', bbox_inches='tight')\n",
    "plt.title('Frequency of State attribute');\n"
   ]
  },
  {
   "cell_type": "code",
   "execution_count": 27,
   "id": "4197d5b7",
   "metadata": {
    "scrolled": true
   },
   "outputs": [
    {
     "name": "stdout",
     "output_type": "stream",
     "text": [
      "╒════════════╤═════════════════════════════════╕\n",
      "│   ZIP Code │ Record count (Percentage) [%]   │\n",
      "╞════════════╪═════════════════════════════════╡\n",
      "│      60609 │ 1950 (0.036%)                   │\n",
      "├────────────┼─────────────────────────────────┤\n",
      "│      60647 │ 1912 (0.035%)                   │\n",
      "├────────────┼─────────────────────────────────┤\n",
      "│      60611 │ 1862 (0.034%)                   │\n",
      "├────────────┼─────────────────────────────────┤\n",
      "│      60618 │ 1856 (0.034%)                   │\n",
      "├────────────┼─────────────────────────────────┤\n",
      "│      60614 │ 1685 (0.031%)                   │\n",
      "╘════════════╧═════════════════════════════════╛\n"
     ]
    }
   ],
   "source": [
    "c, f = calculate_frequency(df['ZIP CODE'])\n",
    "table = make_table(c,f)\n",
    "print(tabulate(table, headers=['ZIP Code', 'Record count (Percentage) [%]'], tablefmt='fancy_grid'))"
   ]
  },
  {
   "cell_type": "code",
   "execution_count": 28,
   "id": "79288a63",
   "metadata": {
    "scrolled": true
   },
   "outputs": [
    {
     "name": "stdout",
     "output_type": "stream",
     "text": [
      "╒════════╤═════════════════════════════════╕\n",
      "│   Ward │ Record count (Percentage) [%]   │\n",
      "╞════════╪═════════════════════════════════╡\n",
      "│     42 │ 4663 (0.086%)                   │\n",
      "├────────┼─────────────────────────────────┤\n",
      "│     34 │ 2927 (0.054%)                   │\n",
      "├────────┼─────────────────────────────────┤\n",
      "│     27 │ 2583 (0.047%)                   │\n",
      "├────────┼─────────────────────────────────┤\n",
      "│      1 │ 1655 (0.030%)                   │\n",
      "├────────┼─────────────────────────────────┤\n",
      "│     12 │ 1548 (0.028%)                   │\n",
      "╘════════╧═════════════════════════════════╛\n"
     ]
    }
   ],
   "source": [
    "c, f = calculate_frequency(df['WARD']);\n",
    "table = make_table(c,f)\n",
    "print(tabulate(table, headers=['Ward', 'Record count (Percentage) [%]'], tablefmt='fancy_grid'))"
   ]
  },
  {
   "cell_type": "code",
   "execution_count": 29,
   "id": "f0b693a7",
   "metadata": {
    "scrolled": true
   },
   "outputs": [
    {
     "name": "stdout",
     "output_type": "stream",
     "text": [
      "╒═══════════╤═════════════════════════════════╕\n",
      "│   Precint │ Record count (Percentage) [%]   │\n",
      "╞═══════════╪═════════════════════════════════╡\n",
      "│         9 │ 1924 (0.035%)                   │\n",
      "├───────────┼─────────────────────────────────┤\n",
      "│        27 │ 1159 (0.021%)                   │\n",
      "├───────────┼─────────────────────────────────┤\n",
      "│        21 │ 974 (0.018%)                    │\n",
      "├───────────┼─────────────────────────────────┤\n",
      "│        10 │ 950 (0.017%)                    │\n",
      "├───────────┼─────────────────────────────────┤\n",
      "│        19 │ 929 (0.017%)                    │\n",
      "╘═══════════╧═════════════════════════════════╛\n"
     ]
    }
   ],
   "source": [
    "c, f = calculate_frequency(df['PRECINCT']);\n",
    "table = make_table(c,f) \n",
    "print(tabulate(table, headers=['Precint', 'Record count (Percentage) [%]'], tablefmt='fancy_grid'))"
   ]
  },
  {
   "cell_type": "code",
   "execution_count": 30,
   "id": "e83b0263",
   "metadata": {
    "scrolled": true
   },
   "outputs": [
    {
     "name": "stdout",
     "output_type": "stream",
     "text": [
      "╒═══════════════════╤═════════════════════════════════╕\n",
      "│   Police District │ Record count (Percentage) [%]   │\n",
      "╞═══════════════════╪═════════════════════════════════╡\n",
      "│                 1 │ 3958 (0.073%)                   │\n",
      "├───────────────────┼─────────────────────────────────┤\n",
      "│                18 │ 3933 (0.072%)                   │\n",
      "├───────────────────┼─────────────────────────────────┤\n",
      "│                19 │ 3602 (0.066%)                   │\n",
      "├───────────────────┼─────────────────────────────────┤\n",
      "│                12 │ 3295 (0.060%)                   │\n",
      "├───────────────────┼─────────────────────────────────┤\n",
      "│                 8 │ 2483 (0.046%)                   │\n",
      "╘═══════════════════╧═════════════════════════════════╛\n"
     ]
    }
   ],
   "source": [
    "c, f = calculate_frequency(df['POLICE DISTRICT'])\n",
    "table = make_table(c,f)\n",
    "print(tabulate(table, headers=['Police District', 'Record count (Percentage) [%]'], tablefmt='fancy_grid'))\n"
   ]
  },
  {
   "cell_type": "code",
   "execution_count": 140,
   "id": "f1be0ba6",
   "metadata": {
    "scrolled": true
   },
   "outputs": [
    {
     "data": {
      "text/plain": [
       "Text(0.5, 1.0, 'Frequency of License Code')"
      ]
     },
     "execution_count": 140,
     "metadata": {},
     "output_type": "execute_result"
    },
    {
     "data": {
      "image/png": "[encoded data removed]",
      "text/plain": [
       "<Figure size 640x480 with 1 Axes>"
      ]
     },
     "metadata": {},
     "output_type": "display_data"
    }
   ],
   "source": [
    "c, f = calculate_frequency(df['LICENSE CODE'])\n",
    "draw_pie_chart (c, f)\n",
    "plt.title('Frequency of License Code')"
   ]
  },
  {
   "cell_type": "code",
   "execution_count": 141,
   "id": "f134f6fc",
   "metadata": {
    "scrolled": true
   },
   "outputs": [
    {
     "data": {
      "image/png": "[encoded data removed]",
      "text/plain": [
       "<Figure size 640x480 with 1 Axes>"
      ]
     },
     "metadata": {},
     "output_type": "display_data"
    }
   ],
   "source": [
    "c, f = calculate_frequency(df['BUSINESS ACTIVITY ID'])\n",
    "draw_pie_chart (c, f)\n",
    "plt.title('Frequency of Business Activity ID'); #interesantno"
   ]
  },
  {
   "cell_type": "code",
   "execution_count": 153,
   "id": "d166ea54",
   "metadata": {},
   "outputs": [
    {
     "data": {
      "image/png": "[encoded data removed]",
      "text/plain": [
       "<Figure size 640x480 with 1 Axes>"
      ]
     },
     "metadata": {},
     "output_type": "display_data"
    }
   ],
   "source": [
    "import matplotlib.pyplot as plt\n",
    "\n",
    "# User data\n",
    "activity_names = ['Retail Sales of\\n Perishable Foods', 'Consumption of \\nLiquor on Premises', 'Preparation of Food and Dining \\non Premise With Seating']\n",
    "percentages = [8, 5, 4]\n",
    "\n",
    "# Plotting\n",
    "plt.barh(activity_names, percentages)  # No need to specify color for default blue\n",
    "plt.xlabel('Percentage')\n",
    "plt.ylabel('Business Activity')\n",
    "plt.title('Business Activity Percentages')\n",
    "plt.xlim([0, 10])  # Adjust x-axis limits if needed\n",
    "plt.xticks(range(0, 11))  # Set x-axis ticks\n",
    "for i in range(len(percentages)):\n",
    "    plt.text(percentages[i], i, f' {percentages[i]}%', va='center')  # Add labels to the bars\n",
    "plt.gca().invert_yaxis()  # Invert y-axis to have the highest percentage at the top\n",
    "plt.show()\n"
   ]
  },
  {
   "cell_type": "code",
   "execution_count": 33,
   "id": "9c6deb83",
   "metadata": {
    "scrolled": false
   },
   "outputs": [
    {
     "name": "stdout",
     "output_type": "stream",
     "text": [
      "╒════════════════════╤═════════════════════════════════╕\n",
      "│ Application Type   │ Record count (Percentage) [%]   │\n",
      "╞════════════════════╪═════════════════════════════════╡\n",
      "│ RENEW              │ 42497 (0.780%)                  │\n",
      "├────────────────────┼─────────────────────────────────┤\n",
      "│ ISSUE              │ 11193 (0.205%)                  │\n",
      "├────────────────────┼─────────────────────────────────┤\n",
      "│ C_LOC              │ 741 (0.014%)                    │\n",
      "├────────────────────┼─────────────────────────────────┤\n",
      "│ C_SBA              │ 44 (0.001%)                     │\n",
      "├────────────────────┼─────────────────────────────────┤\n",
      "│ C_EXPA             │ 21 (0.000%)                     │\n",
      "╘════════════════════╧═════════════════════════════════╛\n"
     ]
    }
   ],
   "source": [
    "c, f = calculate_frequency(df['APPLICATION TYPE'])\n",
    "table = make_table(c,f)\n",
    "print(tabulate(table, headers=['Application Type', 'Record count (Percentage) [%]'], tablefmt='fancy_grid'))"
   ]
  },
  {
   "cell_type": "code",
   "execution_count": 34,
   "id": "fd12ff7c",
   "metadata": {
    "scrolled": false
   },
   "outputs": [
    {
     "name": "stdout",
     "output_type": "stream",
     "text": [
      "╒═══════╤═════════════════════════════════╕\n",
      "│   SSA │ Record count (Percentage) [%]   │\n",
      "╞═══════╪═════════════════════════════════╡\n",
      "│    33 │ 1168 (0.021%)                   │\n",
      "├───────┼─────────────────────────────────┤\n",
      "│    10 │ 1018 (0.019%)                   │\n",
      "├───────┼─────────────────────────────────┤\n",
      "│    17 │ 642 (0.012%)                    │\n",
      "├───────┼─────────────────────────────────┤\n",
      "│     1 │ 579 (0.011%)                    │\n",
      "├───────┼─────────────────────────────────┤\n",
      "│    27 │ 551 (0.010%)                    │\n",
      "╘═══════╧═════════════════════════════════╛\n"
     ]
    }
   ],
   "source": [
    "c, f = calculate_frequency(df['SSA'])\n",
    "table = make_table(c,f)\n",
    "print(tabulate(table, headers=['SSA', 'Record count (Percentage) [%]'], tablefmt='fancy_grid'))"
   ]
  },
  {
   "cell_type": "markdown",
   "id": "03ddb9aa",
   "metadata": {},
   "source": [
    "# Dummies, invalid and unstandardized values"
   ]
  },
  {
   "cell_type": "markdown",
   "id": "b3fb6842",
   "metadata": {},
   "source": [
    "#### Adddress "
   ]
  },
  {
   "cell_type": "code",
   "execution_count": 13,
   "id": "43ff2887",
   "metadata": {},
   "outputs": [
    {
     "name": "stdout",
     "output_type": "stream",
     "text": [
      "54501\n"
     ]
    }
   ],
   "source": [
    "address_col = df['ADDRESS']\n",
    "print(len(address_col))\n",
    "dummy_address = []\n",
    "valid_address = []\n",
    "suspicious_address = []\n",
    "\n",
    "\n",
    "for address in address_col:\n",
    "        if(address[0].isnumeric()==False): \n",
    "            dummy_address.append(address)\n",
    "        else:\n",
    "            valid_address.append(address)\n",
    "        \n",
    "redacted_address = []\n",
    "other_address = []\n",
    "\n",
    "for x in dummy_address:\n",
    "    if(x[0]=='['):\n",
    "        redacted_address.append(x)\n",
    "    else:\n",
    "        other_address.append(x)"
   ]
  },
  {
   "cell_type": "code",
   "execution_count": 14,
   "id": "9aa9c538",
   "metadata": {
    "scrolled": true
   },
   "outputs": [
    {
     "name": "stdout",
     "output_type": "stream",
     "text": [
      "Redacted for privacy count:  844\n",
      "['[REDACTED FOR PRIVACY]', '[REDACTED FOR PRIVACY]', '[REDACTED FOR PRIVACY]', '[REDACTED FOR PRIVACY]', '[REDACTED FOR PRIVACY]', '[REDACTED FOR PRIVACY]', '[REDACTED FOR PRIVACY]', '[REDACTED FOR PRIVACY]', '[REDACTED FOR PRIVACY]', '[REDACTED FOR PRIVACY]']\n"
     ]
    }
   ],
   "source": [
    "print(\"Redacted for privacy count: \", len(redacted_address))\n",
    "print(redacted_address[:10])"
   ]
  },
  {
   "cell_type": "code",
   "execution_count": 15,
   "id": "700f5dd7",
   "metadata": {
    "scrolled": false
   },
   "outputs": [
    {
     "name": "stdout",
     "output_type": "stream",
     "text": [
      "Potentially dummy because they don't follow the format, however it will be checked afterwards:  10\n",
      "['CITY HIGHWAY 14', '--  BUILDING 14, 17TH FL, TOWER C DLF CYBER CITY,', 'PLOT NO. 31  MIDC, PUNE INFOTECH PARK, PHASE -2', 'NORTH 56  W 16865 RIDGEWOOD DR', 'A-  154A   SECTOR 63', 'ONE  PIERCE PLACE  7TH 700', 'ONE  PIERCE PLACE  7TH 700', 'S 561 KENDALL AVE', 'M12-18  SOUTHERN CROSS BLVD., MONTEGO FREEPORT BLVD', 'POBO  466  1ST']\n"
     ]
    }
   ],
   "source": [
    "print(\"Potentially dummy because they don't follow the format, however it will be checked afterwards: \", len(other_address))\n",
    "print(other_address) #potentially dummy"
   ]
  },
  {
   "cell_type": "code",
   "execution_count": 16,
   "id": "edaa16af",
   "metadata": {
    "scrolled": true
   },
   "outputs": [
    {
     "name": "stdout",
     "output_type": "stream",
     "text": [
      "Percentage of dummy valeus for Address attribute:  1.55  %\n"
     ]
    }
   ],
   "source": [
    "print(\"Percentage of dummy valeus for Address attribute: \", round(len(redacted_address)/len(address_col)*100.0, 2), \" %\")"
   ]
  },
  {
   "cell_type": "code",
   "execution_count": 17,
   "id": "b5e66a54",
   "metadata": {},
   "outputs": [
    {
     "name": "stdout",
     "output_type": "stream",
     "text": [
      "Addresses not in format: NUMBER_E/W/S/N_REMAINING PART:  2760\n"
     ]
    }
   ],
   "source": [
    "address_col = address_col[address_col != '[REDACTED FOR PRIVACY]']\n",
    "unstandardized_address = [] \n",
    "standard_address = []\n",
    "permitted = \"0123456789 \"\n",
    "\n",
    "for address in address_col:\n",
    "    parts = address.split(\" \",maxsplit=2) # we have part 0, part 1 and part 2\n",
    "    if (parts[0]!=\"\" and parts[1]!=\"\"):\n",
    "        if(parts[0].isdigit()==True and (parts[1]=='E' or parts[1]=='S' or parts[1]=='W' or parts[1]=='N')):\n",
    "            standard_address.append(address)\n",
    "        elif(parts[0].isdigit()==False and (parts[1]=='E' or parts[1]=='S' or parts[1]=='W' or parts[1]=='N')):\n",
    "            if(bool(parts[0].find('-'))==True):\n",
    "                parts_of_parts = parts[0].split('-')\n",
    "                is_ok = True\n",
    "                for i in range (len(parts_of_parts)):\n",
    "                    parts_of_parts[i].replace(\" \", \"\")\n",
    "                    if(parts_of_parts[i].isdigit()==False):\n",
    "                        unstandardized_address.append(address)\n",
    "                        is_ok = False\n",
    "                        break\n",
    "                if(is_ok):\n",
    "                     standard_address.append(address)\n",
    "            else:\n",
    "                unstandardized_address.append(address)\n",
    "            \n",
    "        else:\n",
    "             unstandardized_address.append(address)\n",
    "    else:\n",
    "        unstandardized_address.append(address)\n",
    "\n",
    "        \n",
    "print(\"Addresses not in format: NUMBER_E/W/S/N_REMAINING PART: \", len(unstandardized_address))   \n",
    "# print(len(unstandardized_address)+len(standard_address))\n",
    "# print(54501-844)\n",
    "# print(unstandardized_address)"
   ]
  },
  {
   "cell_type": "code",
   "execution_count": 18,
   "id": "099c173f",
   "metadata": {
    "scrolled": false
   },
   "outputs": [
    {
     "name": "stdout",
     "output_type": "stream",
     "text": [
      "2760\n"
     ]
    }
   ],
   "source": [
    "# Checking if REDACTED are excluded, they were since the length of the array didn't change\n",
    "for item in unstandardized_address:\n",
    "    if(item=='[REDACTED FOR PRIVACY]'):\n",
    "        unstandardized_address.remove(item) \n",
    "\n",
    "print(len(unstandardized_address))"
   ]
  },
  {
   "cell_type": "code",
   "execution_count": 19,
   "id": "78e48a51",
   "metadata": {},
   "outputs": [
    {
     "name": "stdout",
     "output_type": "stream",
     "text": [
      "Number of all uppercase letters written Addresses:  53656   99.998 %\n",
      "Number of not all uppercase letters written Addresses:  1   0.002 %\n",
      "Not all uppercase address is:  ['31w007  NORTH AVE']\n"
     ]
    }
   ],
   "source": [
    "all_uppercase_address = []\n",
    "not_all_uppercase_address = []\n",
    "\n",
    "for item in address_col:\n",
    "    if(str(item).isupper()==True):\n",
    "        all_uppercase_address.append(str(item))\n",
    "    else:\n",
    "        not_all_uppercase_address.append(str(item))\n",
    "\n",
    "print(\"Number of all uppercase letters written Addresses: \", len(all_uppercase_address), \" \", round(len(all_uppercase_address)/len(address_col)*100.0, 3), \"%\")\n",
    "print(\"Number of not all uppercase letters written Addresses: \", len(not_all_uppercase_address), \" \", round(len(not_all_uppercase_address)/len(address_col)*100.0, 3), \"%\")\n",
    "print(\"Not all uppercase address is: \", not_all_uppercase_address)\n"
   ]
  },
  {
   "cell_type": "markdown",
   "id": "fb0ae37f",
   "metadata": {},
   "source": [
    "#### Correct Latitude & Longitude"
   ]
  },
  {
   "cell_type": "code",
   "execution_count": 20,
   "id": "dcf81533",
   "metadata": {},
   "outputs": [
    {
     "name": "stdout",
     "output_type": "stream",
     "text": [
      "Dummy values for latitude:  0\n"
     ]
    }
   ],
   "source": [
    "latitude_col = df['LATITUDE']\n",
    "dummy_latitude = []\n",
    "\n",
    "for number in latitude_col:\n",
    "    if(number<-90.0 or number>90.0):\n",
    "        dummy_latitude.append(number)\n",
    "        \n",
    "print(\"Dummy values for latitude: \", len(dummy_latitude))"
   ]
  },
  {
   "cell_type": "code",
   "execution_count": 21,
   "id": "839e47d3",
   "metadata": {},
   "outputs": [
    {
     "name": "stdout",
     "output_type": "stream",
     "text": [
      "Dummy values for longitude:  0\n"
     ]
    }
   ],
   "source": [
    "longitude_col = df['LONGITUDE']\n",
    "dummy_longitude = []\n",
    "\n",
    "for number in longitude_col:\n",
    "    if(number<-180.0 or number>180.0):\n",
    "        dummy_longitude.append(number)\n",
    "        \n",
    "print(\"Dummy values for longitude: \", len(dummy_longitude))"
   ]
  },
  {
   "cell_type": "markdown",
   "id": "c28e292e",
   "metadata": {},
   "source": [
    "#### Dates checking"
   ]
  },
  {
   "cell_type": "code",
   "execution_count": 22,
   "id": "4748352b",
   "metadata": {},
   "outputs": [
    {
     "name": "stdout",
     "output_type": "stream",
     "text": [
      "Number of invalid dates:  0\n"
     ]
    }
   ],
   "source": [
    "date = df['APPLICATION CREATED DATE']\n",
    "#print(date)\n",
    "no_dates = 0\n",
    "invalid_dates= []\n",
    "\n",
    "for item in date:\n",
    "    if(pd.isna(item)==False):\n",
    "        no_dates = no_dates + 1\n",
    "        mon = item[0:2]\n",
    "        day = item[3:5]\n",
    "        year = item[6:10]\n",
    "        if (is_valid_date(int(year), int(mon), int(day))==False):\n",
    "            invalid_dates.append(item)\n",
    "            \n",
    "print(\"Number of invalid dates: \", len(invalid_dates))"
   ]
  },
  {
   "cell_type": "code",
   "execution_count": 23,
   "id": "29040992",
   "metadata": {},
   "outputs": [
    {
     "name": "stdout",
     "output_type": "stream",
     "text": [
      "Number of invalid dates:  0\n"
     ]
    }
   ],
   "source": [
    "date = df['APPLICATION REQUIREMENTS COMPLETE']\n",
    "#print(date)\n",
    "no_dates = 0\n",
    "invalid_dates= []\n",
    "\n",
    "for item in date:\n",
    "    if(pd.isna(item)==False):\n",
    "        no_dates = no_dates + 1\n",
    "        mon = item[0:2]\n",
    "        day = item[3:5]\n",
    "        year = item[6:10]\n",
    "        if (is_valid_date(int(year), int(mon), int(day))==False):\n",
    "            invalid_dates.append(item)\n",
    "            \n",
    "print(\"Number of invalid dates: \", len(invalid_dates))"
   ]
  },
  {
   "cell_type": "code",
   "execution_count": 24,
   "id": "5a560668",
   "metadata": {},
   "outputs": [
    {
     "name": "stdout",
     "output_type": "stream",
     "text": [
      "Number of invalid dates:  0\n"
     ]
    }
   ],
   "source": [
    "date = df['PAYMENT DATE']\n",
    "#print(date)\n",
    "no_dates = 0\n",
    "invalid_dates= []\n",
    "\n",
    "for item in date:\n",
    "    if(pd.isna(item)==False):\n",
    "        no_dates = no_dates + 1\n",
    "        mon = item[0:2]\n",
    "        day = item[3:5]\n",
    "        year = item[6:10]\n",
    "        if (is_valid_date(int(year), int(mon), int(day))==False):\n",
    "            invalid_dates.append(item)\n",
    "            \n",
    "print(\"Number of invalid dates: \", len(invalid_dates))"
   ]
  },
  {
   "cell_type": "code",
   "execution_count": 25,
   "id": "05f08f03",
   "metadata": {},
   "outputs": [
    {
     "name": "stdout",
     "output_type": "stream",
     "text": [
      "Number of invalid dates:  0\n"
     ]
    }
   ],
   "source": [
    "date = df['LICENSE TERM START DATE']\n",
    "#print(date)\n",
    "no_dates = 0\n",
    "invalid_dates= []\n",
    "\n",
    "for item in date:\n",
    "    if(pd.isna(item)==False):\n",
    "        no_dates = no_dates + 1\n",
    "        mon = item[0:2]\n",
    "        day = item[3:5]\n",
    "        year = item[6:10]\n",
    "        if (is_valid_date(int(year), int(mon), int(day))==False):\n",
    "            invalid_dates.append(item)\n",
    "            \n",
    "print(\"Number of invalid dates: \", len(invalid_dates))"
   ]
  },
  {
   "cell_type": "code",
   "execution_count": 26,
   "id": "a58149e2",
   "metadata": {},
   "outputs": [
    {
     "name": "stdout",
     "output_type": "stream",
     "text": [
      "Number of invalid dates:  0\n"
     ]
    }
   ],
   "source": [
    "date = df['LICENSE TERM EXPIRATION DATE']\n",
    "#print(date)\n",
    "no_dates = 0\n",
    "invalid_dates= []\n",
    "\n",
    "for item in date:\n",
    "    if(pd.isna(item)==False):\n",
    "        no_dates = no_dates + 1\n",
    "        mon = item[0:2]\n",
    "        day = item[3:5]\n",
    "        year = item[6:10]\n",
    "        if (is_valid_date(int(year), int(mon), int(day))==False):\n",
    "            invalid_dates.append(item)\n",
    "            \n",
    "print(\"Number of invalid dates: \", len(invalid_dates))"
   ]
  },
  {
   "cell_type": "code",
   "execution_count": 88,
   "id": "703f60d6",
   "metadata": {},
   "outputs": [
    {
     "name": "stdout",
     "output_type": "stream",
     "text": [
      "Number of expired dates:  0\n"
     ]
    }
   ],
   "source": [
    "expired_date=[]\n",
    "\n",
    "for item in date:\n",
    "        if(pd.isna(item)==False):\n",
    "            mon = item[0:2]\n",
    "            day = item[3:5]\n",
    "            year = item[6:10]\n",
    "            if (is_expired(int(year), int(mon), int(day))==True):\n",
    "                expired_date.append(item)\n",
    "            \n",
    "print(\"Number of expired dates: \", len(expired_date))"
   ]
  },
  {
   "cell_type": "code",
   "execution_count": 27,
   "id": "af3d3bc8",
   "metadata": {},
   "outputs": [
    {
     "name": "stdout",
     "output_type": "stream",
     "text": [
      "Number of invalid dates:  0\n"
     ]
    }
   ],
   "source": [
    "date = df['LICENSE APPROVED FOR ISSUANCE']\n",
    "#print(date)\n",
    "no_dates = 0\n",
    "invalid_dates= []\n",
    "\n",
    "for item in date:\n",
    "    if(pd.isna(item)==False):\n",
    "        no_dates = no_dates + 1\n",
    "        mon = item[0:2]\n",
    "        day = item[3:5]\n",
    "        year = item[6:10]\n",
    "        if (is_valid_date(int(year), int(mon), int(day))==False):\n",
    "            invalid_dates.append(item)\n",
    "            \n",
    "print(\"Number of invalid dates: \", len(invalid_dates))"
   ]
  },
  {
   "cell_type": "code",
   "execution_count": 28,
   "id": "9cb9d208",
   "metadata": {},
   "outputs": [
    {
     "name": "stdout",
     "output_type": "stream",
     "text": [
      "Number of invalid dates:  0\n"
     ]
    }
   ],
   "source": [
    "date = df['DATE ISSUED']\n",
    "#print(date)\n",
    "no_dates = 0\n",
    "invalid_dates= []\n",
    "\n",
    "for item in date:\n",
    "    if(pd.isna(item)==False):\n",
    "        no_dates = no_dates + 1\n",
    "        mon = item[0:2]\n",
    "        day = item[3:5]\n",
    "        year = item[6:10]\n",
    "        if (is_valid_date(int(year), int(mon), int(day))==False):\n",
    "            invalid_dates.append(item)\n",
    "            \n",
    "print(\"Number of invalid dates: \", len(invalid_dates))"
   ]
  },
  {
   "cell_type": "code",
   "execution_count": 29,
   "id": "22b29a9c",
   "metadata": {
    "scrolled": true
   },
   "outputs": [
    {
     "name": "stdout",
     "output_type": "stream",
     "text": [
      "Number of invalid dates:  0\n"
     ]
    }
   ],
   "source": [
    "date = df['LICENSE STATUS CHANGE DATE']\n",
    "#print(date)\n",
    "no_dates = 0\n",
    "invalid_dates= []\n",
    "\n",
    "for item in date:\n",
    "    if(pd.isna(item)==False):\n",
    "        no_dates = no_dates + 1\n",
    "        mon = item[0:2]\n",
    "        day = item[3:5]\n",
    "        year = item[6:10]\n",
    "        if (is_valid_date(int(year), int(mon), int(day))==False):\n",
    "            invalid_dates.append(item)\n",
    "            \n",
    "print(\"Number of invalid dates: \", len(invalid_dates))"
   ]
  },
  {
   "cell_type": "markdown",
   "id": "6afebef3",
   "metadata": {},
   "source": [
    "#### Application Type"
   ]
  },
  {
   "cell_type": "code",
   "execution_count": 30,
   "id": "c73001bb",
   "metadata": {},
   "outputs": [
    {
     "name": "stdout",
     "output_type": "stream",
     "text": [
      "Number of values in Application type that are not included in documentation:  44\n",
      "{'C_SBA'}\n"
     ]
    }
   ],
   "source": [
    "app_type = df['APPLICATION TYPE']\n",
    "dummy_app_type = []\n",
    "\n",
    "for item in app_type: # C_SBA not documented in documentation\n",
    "    if(item!='ISSUE' and item!='RENEW' and item!='C_LOC' and item!='C_CAPA' and item!='C_EXPA'):\n",
    "        dummy_app_type.append(item)\n",
    "\n",
    "print(\"Number of values in Application type that are not included in documentation: \", len(dummy_app_type)) # it's not dummy\n",
    "# it's just not documented\n",
    "print(set(dummy_app_type))"
   ]
  },
  {
   "cell_type": "markdown",
   "id": "e8567fe5",
   "metadata": {},
   "source": [
    "#### Business Activity ID"
   ]
  },
  {
   "cell_type": "code",
   "execution_count": 31,
   "id": "10810646",
   "metadata": {},
   "outputs": [
    {
     "name": "stdout",
     "output_type": "stream",
     "text": [
      "Number of dummy values for Business Activity ID:  0\n"
     ]
    }
   ],
   "source": [
    "bus_act = df['BUSINESS ACTIVITY ID'] \n",
    "bus_act_des = df['BUSINESS ACTIVITY']\n",
    "dummy_bus_act = []\n",
    "\n",
    "for item in bus_act:\n",
    "    if (pd.isna(item)==False and item.isalpha() == True): #isalpha() check if there are ANY alphabetical signs\n",
    "        dummy_bus_act.append(item)\n",
    "            \n",
    "print(\"Number of dummy values for Business Activity ID: \", len(dummy_bus_act))"
   ]
  },
  {
   "cell_type": "code",
   "execution_count": 32,
   "id": "200d40ca",
   "metadata": {},
   "outputs": [
    {
     "name": "stdout",
     "output_type": "stream",
     "text": [
      "Number of unstandardized Business Activity ID:  []\n"
     ]
    }
   ],
   "source": [
    "standardized_bus_act = []\n",
    "unstandardized_bus_act = []\n",
    "permitted = \"0123456789 \"\n",
    "\n",
    "for item in bus_act:\n",
    "    if(str(item).isdigit()==True):\n",
    "        standardized_bus_act.append(item)\n",
    "    elif (pd.isna(item)==False and str(item).isdigit()==False):\n",
    "        parts = item.split('|')\n",
    "        is_ok = True\n",
    "        for i in range (len(parts)):\n",
    "            if not (any(c in permitted for c in parts[i])):\n",
    "                unstandardized_bus_act.append(item)\n",
    "                is_ok = False\n",
    "                break\n",
    "        if(is_ok):\n",
    "            standardized_bus_act.append(item)\n",
    "                \n",
    "    elif(pd.isna(item)==False):\n",
    "        unstandardized_bus_act.append(item)\n",
    "\n",
    "print(\"Number of unstandardized Business Activity ID: \", unstandardized_bus_act)"
   ]
  },
  {
   "cell_type": "code",
   "execution_count": 33,
   "id": "9ec2d418",
   "metadata": {},
   "outputs": [
    {
     "name": "stdout",
     "output_type": "stream",
     "text": [
      "Number of values in Business Activity ID/Description that do not map correctly:  0\n"
     ]
    }
   ],
   "source": [
    "possible_invalid = []\n",
    "for i in range(len(bus_act_des)):\n",
    "        sign_counts1 = str(bus_act[i]).count('|')\n",
    "        sign_counts2 = str(bus_act_des[i]).count('|')\n",
    "        #print(sign_counts1, sign_counts2)\n",
    "        if(sign_counts1!=sign_counts2):\n",
    "            possible_invalid.append(bus_act)\n",
    "            \n",
    "print(\"Number of values in Business Activity ID/Description that do not map correctly: \", len(possible_invalid))"
   ]
  },
  {
   "cell_type": "code",
   "execution_count": 34,
   "id": "cb59b6fc",
   "metadata": {},
   "outputs": [
    {
     "name": "stdout",
     "output_type": "stream",
     "text": [
      "2320\n",
      "2320\n"
     ]
    }
   ],
   "source": [
    "print(bus_act.nunique())\n",
    "print(bus_act_des.nunique())"
   ]
  },
  {
   "cell_type": "markdown",
   "id": "0bbe6aa1",
   "metadata": {},
   "source": [
    "#### License status"
   ]
  },
  {
   "cell_type": "code",
   "execution_count": 35,
   "id": "5b7605df",
   "metadata": {},
   "outputs": [
    {
     "name": "stdout",
     "output_type": "stream",
     "text": [
      "Number of dummy values for License status:  0\n"
     ]
    }
   ],
   "source": [
    "lic_stat = df['LICENSE STATUS']\n",
    "dummy_lic_stat = []\n",
    "\n",
    "for item in lic_stat:\n",
    "    if (item!='AAI'): # From documentation this is set to AAI, others are not mentioned\n",
    "        dummy_lic_stat.append(item)\n",
    "            \n",
    "print(\"Number of dummy values for License status: \", len(dummy_bus_act))"
   ]
  },
  {
   "cell_type": "markdown",
   "id": "5bc43c55",
   "metadata": {},
   "source": [
    "#### Conditional Approval"
   ]
  },
  {
   "cell_type": "code",
   "execution_count": 36,
   "id": "6ed201be",
   "metadata": {},
   "outputs": [
    {
     "name": "stdout",
     "output_type": "stream",
     "text": [
      "2\n"
     ]
    }
   ],
   "source": [
    "x = df['CONDITIONAL APPROVAL'].nunique()\n",
    "print(x)"
   ]
  },
  {
   "cell_type": "code",
   "execution_count": 37,
   "id": "7a72c33b",
   "metadata": {},
   "outputs": [
    {
     "name": "stdout",
     "output_type": "stream",
     "text": [
      "['N' 'Y']\n"
     ]
    }
   ],
   "source": [
    "y = df['CONDITIONAL APPROVAL'].unique()\n",
    "print(y)"
   ]
  },
  {
   "cell_type": "markdown",
   "id": "004238a4",
   "metadata": {},
   "source": [
    "No dummie values here, since it's always either Y or N."
   ]
  },
  {
   "cell_type": "markdown",
   "id": "819892ac",
   "metadata": {},
   "source": [
    "#### State"
   ]
  },
  {
   "cell_type": "code",
   "execution_count": 38,
   "id": "c0ac37ff",
   "metadata": {},
   "outputs": [
    {
     "name": "stdout",
     "output_type": "stream",
     "text": [
      "['ON', 'QC', 'ON', 'GB', 'NS', 'QC', 'QC', 'CN', 'DC']\n",
      "Number of values that do not represent USA state abbreviations (it's Canada):  9\n"
     ]
    }
   ],
   "source": [
    "usa_state_abbreviations = [\n",
    "    \"AL\", \"AK\", \"AZ\", \"AR\", \"CA\", \"CO\", \"CT\", \"DE\", \"FL\", \"GA\",\n",
    "    \"HI\", \"ID\", \"IL\", \"IN\", \"IA\", \"KS\", \"KY\", \"LA\", \"ME\", \"MD\",\n",
    "    \"MA\", \"MI\", \"MN\", \"MS\", \"MO\", \"MT\", \"NE\", \"NV\", \"NH\", \"NJ\",\n",
    "    \"NM\", \"NY\", \"NC\", \"ND\", \"OH\", \"OK\", \"OR\", \"PA\", \"RI\", \"SC\",\n",
    "    \"SD\", \"TN\", \"TX\", \"UT\", \"VT\", \"VA\", \"WA\", \"WV\", \"WI\", \"WY\"\n",
    "]\n",
    "\n",
    "state = df['STATE']\n",
    "not_usa = [] # note: they are not dummies, they're just not USA\n",
    "\n",
    "\n",
    "for item in state:\n",
    "    state_exists = False\n",
    "    for i in usa_state_abbreviations:\n",
    "        if(item==i):\n",
    "            state_exists=True\n",
    "            break\n",
    "    if(state_exists==False):\n",
    "        not_usa.append(item)\n",
    "\n",
    "print(not_usa)\n",
    "print(\"Number of values that do not represent USA state abbreviations (it's Canada): \", len(not_usa)) # not USA"
   ]
  },
  {
   "cell_type": "code",
   "execution_count": 138,
   "id": "f41e87f7",
   "metadata": {},
   "outputs": [
    {
     "name": "stdout",
     "output_type": "stream",
     "text": [
      "51\n"
     ]
    }
   ],
   "source": [
    "unique_states = state.unique()\n",
    "print(len(unique_states))"
   ]
  },
  {
   "cell_type": "markdown",
   "id": "96f0776f",
   "metadata": {},
   "source": [
    "#### ID = License Number + License term start date"
   ]
  },
  {
   "cell_type": "code",
   "execution_count": 39,
   "id": "41bf5a5b",
   "metadata": {},
   "outputs": [
    {
     "name": "stdout",
     "output_type": "stream",
     "text": [
      "Number of invalid ID numbers:  0\n",
      "Number of unstandardized ID numbers:  ['2872953-', '2912716-', '2900350-', '2895497-', '2901511-']\n"
     ]
    }
   ],
   "source": [
    "id_num = df['ID']\n",
    "lic_num = df['LICENSE NUMBER']\n",
    "lic_term_start = df['LICENSE TERM START DATE']\n",
    "\n",
    "unstandardized_id = []\n",
    "invalid_id = []\n",
    "\n",
    "for i in range (len(id_num)):\n",
    "    # Split the string into two parts using '-', if this is not possible because of weird format error will occur, no error :)\n",
    "    parts = str(id_num.iloc[i]).split('-')\n",
    "    license_num = parts[0]\n",
    "    lic_date = parts[1]\n",
    "    if(license_num!=str(lic_num.iloc[i])):\n",
    "        print(\"Invalid ID\")\n",
    "    else:\n",
    "        if(pd.isna(lic_term_start[i])==False):\n",
    "            \n",
    "            if(lic_date[0:4]!=lic_term_start[i][6:10] or lic_date[4:6]!=lic_term_start[i][0:2] or lic_date[6:8]!=lic_term_start[i][3:5]):\n",
    "                invalid_id.append(id_num[i])\n",
    "        else:\n",
    "            unstandardized_id.append(id_num[i])\n",
    "\n",
    "                 \n",
    "print(\"Number of invalid ID numbers: \", len(invalid_id))            \n",
    "print(\"Number of unstandardized ID numbers: \", unstandardized_id)            \n"
   ]
  },
  {
   "cell_type": "markdown",
   "id": "782aeb05",
   "metadata": {},
   "source": [
    "#### Location = (Latitude, Longitude)"
   ]
  },
  {
   "cell_type": "code",
   "execution_count": 174,
   "id": "8ec7d774",
   "metadata": {
    "scrolled": false
   },
   "outputs": [],
   "source": [
    "loc = df['LOCATION']\n",
    "lat = df['LATITUDE']\n",
    "lon = df['LONGITUDE']\n",
    "decimal_number = 6 \n",
    "\n",
    "# Da se ne desi slucajno lat i lon prazni a ovamo u loc ima neka informacija, i to provjeriti!!! i slicno\n",
    "invalid_loc = []\n",
    "\n",
    "dec_points_len_lat = []\n",
    "dec_point_len_lon = []\n",
    "dec_points_len_lat_loc = []\n",
    "dec_point_len_lon_loc = []\n",
    "\n",
    "check_lat=[]\n",
    "check_lon=[]\n",
    "\n",
    "for i in range (len(loc)):\n",
    "    # Split the string into two parts using ',', if this is not possible because of weird format error will occur, no error :)\n",
    "    if(pd.isna(loc[i])==False):\n",
    "        parts = str(loc.iloc[i]).split(',')\n",
    "        \n",
    "        latitude = re.sub(r'[,()]', '', parts[0])\n",
    "        longitude = re.sub(r'[,()]', '', parts[1])\n",
    "        \n",
    "        no_dec_points_lat_loc = len(str(latitude).split(\".\")[1])\n",
    "        no_dec_points_lon_loc = len(str(longitude).split(\".\")[1])\n",
    "        \n",
    "        no_dec_points_lat = len(str(lat[i]).split(\".\")[1])\n",
    "        no_dec_points_lon = len(str(lon[i]).split(\".\")[1])\n",
    "        \n",
    "#       print(str(lat[i]).split(\".\")[1], str(lon[i]).split(\".\")[1])\n",
    "        dec_points_len_lat.append(no_dec_points_lat)\n",
    "        dec_point_len_lon.append(no_dec_points_lon)\n",
    "        \n",
    "        dec_points_len_lat_loc.append(no_dec_points_lat_loc)\n",
    "        dec_point_len_lon_loc.append(no_dec_points_lon_loc)\n",
    "\n",
    "        latitude = float(latitude)\n",
    "        longitude = float(longitude)\n",
    "        \n",
    "        if(round(latitude, decimal_number)!= round(lat[i], decimal_number) or round(longitude, decimal_number)!=round(lon[i], decimal_number) ):\n",
    "            invalid_loc.append(loc[i])\n",
    "            check_lat.append(lat[i])\n",
    "            check_lon.append(lon[i])\n",
    "            \n"
   ]
  },
  {
   "cell_type": "code",
   "execution_count": 176,
   "id": "c46af5db",
   "metadata": {
    "scrolled": true
   },
   "outputs": [],
   "source": [
    "# combined1 = np.vstack((dec_points_len_lat, dec_point_len_lon)).T # latitunde and longitude attributes\n",
    "# combined2 = np.vstack((dec_points_len_lat_loc, dec_point_len_lon_loc)).T # getting lat and lon from location attribute\n",
    "# combined3 = np.hstack ((combined1, combined2))\n",
    "\n",
    "# Trying to determine if there is a pattern in number of decimal points in lat, lon and location attributes\n",
    "# print(combined2)\n",
    "# print(combined1[50:60])\n",
    "# print(combined2[50:60])\n",
    "# print(\"Lat Lon Loc (Lat, Lon): \\n\", combined3[20:40])"
   ]
  },
  {
   "cell_type": "code",
   "execution_count": 177,
   "id": "687f7979",
   "metadata": {},
   "outputs": [],
   "source": [
    "# set1 = set(dec_points_len_lat)\n",
    "# print(\"All the decimal point lengths in Latitude attribute: \", set1)\n",
    "\n",
    "# set2 = set(dec_point_len_lon)\n",
    "# print(\"All the decimal point lengths in Longitude attribute: \", set2)\n",
    "\n",
    "# set3 = set(dec_points_len_lat_loc)\n",
    "# print(\"All the decimal point lengths in Location (Latitude) attribute: \", set3)\n",
    "\n",
    "# set4 = set(dec_point_len_lon_loc)\n",
    "# print(\"All the decimal point lengths in Location (Longitude) attribute: \", set4)"
   ]
  },
  {
   "cell_type": "markdown",
   "id": "d7e63760",
   "metadata": {},
   "source": [
    "No relation between number of decimal points in: Lat, Lon and Location (lat, lon).\n"
   ]
  },
  {
   "cell_type": "code",
   "execution_count": 178,
   "id": "86df704c",
   "metadata": {
    "scrolled": true
   },
   "outputs": [
    {
     "name": "stdout",
     "output_type": "stream",
     "text": [
      "(41.80470209085802, -87.61932549988111) 41.804702091 -87.6193255\n",
      "(41.85038774616481, -87.68544749963695) 41.850387746 -87.6854475\n",
      "(41.76550725023303, -87.61984149971846) 41.76550725 -87.6198415\n",
      "(41.95090200753495, -87.71052949972038) 41.950902008 -87.7105295\n",
      "(41.85394549994518, -87.62695926546962) 41.8539455 -87.626959265\n",
      "(41.85394549994518, -87.62695926546962) 41.8539455 -87.626959265\n",
      "(41.85394549994518, -87.62695926546962) 41.8539455 -87.626959265\n",
      "(41.86790450001522, -87.62728574017743) 41.8679045 -87.62728574\n",
      "(41.86790450001522, -87.62728574017743) 41.8679045 -87.62728574\n",
      "(41.88814383976338, -87.6642205001541) 41.88814384 -87.6642205\n",
      "(41.88369802211018, -87.70890250016994) 41.883698022 -87.7089025\n",
      "(41.85411650005176, -87.6661959392539) 41.8541165 -87.666195939\n",
      "(41.85763423590236, -87.66963050031897) 41.857634236 -87.6696305\n",
      "(41.889625933967935, -87.61897349986683) 41.889625934 -87.6189735\n",
      "(41.95090200753495, -87.71052949972038) 41.950902008 -87.7105295\n",
      "(41.947056373374444, -87.65796549962256) 41.947056373 -87.6579655\n",
      "(41.910303310195566, -87.69954050036942) 41.91030331 -87.6995405\n",
      "(41.900007499539605, -87.66725382248164) 41.9000075 -87.667253822\n",
      "(41.900007499539605, -87.66725382248164) 41.9000075 -87.667253822\n",
      "(41.83468306876859, -87.67087949969508) 41.834683069 -87.6708795\n",
      "(41.685244500211425, -87.61976292323057) 41.6852445 -87.619762923\n",
      "(41.998008500459655, -87.66712565512053) 41.9980085 -87.667125655\n",
      "(41.80896449953548, -87.63443349975108) 41.8089645 -87.6344335\n",
      "(41.90065549987455, -87.6271213277268) 41.9006555 -87.627121328\n",
      "(41.88369802211018, -87.70890250016994) 41.883698022 -87.7089025\n",
      "(41.968966500431776, -87.67143451275741) 41.9689665 -87.671434513\n",
      "(41.968966500431776, -87.67143451275741) 41.9689665 -87.671434513\n",
      "(41.76550725023303, -87.61984149971846) 41.76550725 -87.6198415\n",
      "(41.75153549968386, -87.59534813909526) 41.7515355 -87.595348139\n",
      "(41.75153549968386, -87.59534813909526) 41.7515355 -87.595348139\n",
      "(41.98766180191238, -87.69551349990793) 41.987661802 -87.6955135\n",
      "(41.7066394999894, -87.68148251597756) 41.7066395 -87.681482516\n",
      "(41.76550725023303, -87.61984149971846) 41.76550725 -87.6198415\n",
      "(41.80869180317197, -87.6673365004256) 41.808691803 -87.6673365\n",
      "(41.79715650049709, -87.6547948781218) 41.7971565 -87.654794878\n",
      "(41.99858912294531, -87.76319349986964) 41.998589123 -87.7631935\n",
      "(41.961215499921806, -87.71497814944941) 41.9612155 -87.714978149\n"
     ]
    }
   ],
   "source": [
    "for i in range(len(check_lat)):\n",
    "    print(invalid_loc[i], check_lat[i], check_lon[i])"
   ]
  },
  {
   "cell_type": "markdown",
   "id": "95cd391b",
   "metadata": {},
   "source": [
    "#### Legal Name"
   ]
  },
  {
   "cell_type": "code",
   "execution_count": 44,
   "id": "5394e998",
   "metadata": {
    "scrolled": false
   },
   "outputs": [
    {
     "name": "stdout",
     "output_type": "stream",
     "text": [
      "Number of dummy values in Legal Name:  0\n",
      "[]\n"
     ]
    }
   ],
   "source": [
    "legal_name = df['LEGAL NAME']\n",
    "dummies_names = ['INC', 'INC.', 'LLC', 'LTD', 'Co.', 'CORP.', \n",
    "                 'THE', 'ACME CORPORATION', 'TEST CO.', 'LOREM IPSUM INC', \n",
    "                 'OTHER', 'UNKNOWN']\n",
    "\n",
    "dummy_legal_names = []\n",
    "valid_legal_names = []\n",
    "\n",
    "                 \n",
    "pattern = r'[^a-zA-Z\\s]'\n",
    "\n",
    "for item in legal_name:\n",
    "    if item.upper() in dummies_names:\n",
    "        dummy_legal_names.append(item)\n",
    "    else:\n",
    "        valid_legal_names.append(item)\n",
    "                 \n",
    "  \n",
    "print(\"Number of dummy values in Legal Name: \", len(dummy_legal_names))\n",
    "        \n",
    "print(dummy_legal_names)"
   ]
  },
  {
   "cell_type": "code",
   "execution_count": 45,
   "id": "10afc9b4",
   "metadata": {},
   "outputs": [
    {
     "name": "stdout",
     "output_type": "stream",
     "text": [
      "Number of all uppercase letters Legal names:  50264\n",
      "Number of names that are not all uppercase letters written Legal names:  4237\n",
      "54501\n"
     ]
    }
   ],
   "source": [
    "all_uppercase_legal_names = []\n",
    "not_all_uppercase_legal_names = []\n",
    "\n",
    "for item in legal_name:\n",
    "    if(str(item).isupper()==True):\n",
    "        all_uppercase_legal_names.append(str(item))\n",
    "    else:\n",
    "        not_all_uppercase_legal_names.append(str(item))\n",
    "\n",
    "print(\"Number of all uppercase letters Legal names: \", len(all_uppercase_legal_names))\n",
    "print(\"Number of names that are not all uppercase letters written Legal names: \", len(not_all_uppercase_legal_names))\n",
    "\n",
    "print(len(all_uppercase_legal_names)+len(not_all_uppercase_legal_names))"
   ]
  },
  {
   "cell_type": "markdown",
   "id": "a21722ab",
   "metadata": {},
   "source": [
    "#### Doing Business As Name"
   ]
  },
  {
   "cell_type": "code",
   "execution_count": 46,
   "id": "141fd37a",
   "metadata": {},
   "outputs": [
    {
     "name": "stdout",
     "output_type": "stream",
     "text": [
      "Number of dummie values fot Doing business as name:  0\n",
      "[]\n"
     ]
    }
   ],
   "source": [
    "bus_as_name = df['DOING BUSINESS AS NAME']\n",
    "\n",
    "dummy_bus_as_names = []\n",
    "valid_bus_as_names = []\n",
    "pattern = r'[^a-zA-Z\\s]'\n",
    "\n",
    "for item in bus_as_name:\n",
    "    if str(item).upper() in dummies_names:\n",
    "        dummy_bus_as_names.append(item)\n",
    "    else:\n",
    "        valid_bus_as_names.append(item)\n",
    "                 \n",
    "    \n",
    "print(\"Number of dummie values fot Doing business as name: \", len(dummy_bus_as_names))\n",
    "        \n",
    "print(dummy_bus_as_names)\n"
   ]
  },
  {
   "cell_type": "code",
   "execution_count": 47,
   "id": "bd99e42a",
   "metadata": {},
   "outputs": [
    {
     "name": "stdout",
     "output_type": "stream",
     "text": [
      "Number of all uppercase letters written Busines As Name:  45908\n",
      "Number of not all uppercase letters written Busines As Name:  8593\n",
      "54501\n"
     ]
    }
   ],
   "source": [
    "all_uppercase_bus_as_name = []\n",
    "not_all_uppercase_bus_as_name = []\n",
    "\n",
    "for item in bus_as_name:\n",
    "    if(str(item).isupper()==True):\n",
    "        all_uppercase_bus_as_name.append(str(item))\n",
    "    else:\n",
    "        not_all_uppercase_bus_as_name.append(str(item))\n",
    "\n",
    "print(\"Number of all uppercase letters written Busines As Name: \", len(all_uppercase_bus_as_name))\n",
    "print(\"Number of not all uppercase letters written Busines As Name: \",len(not_all_uppercase_bus_as_name))\n",
    "\n",
    "print(len(all_uppercase_bus_as_name)+len(not_all_uppercase_bus_as_name))"
   ]
  },
  {
   "cell_type": "markdown",
   "id": "1b9de33d",
   "metadata": {},
   "source": [
    "#### ZIP Code - but checking if they're only valid for Chicago, if they're some other city - it will be recognized as invalid"
   ]
  },
  {
   "cell_type": "code",
   "execution_count": 48,
   "id": "4fc34613",
   "metadata": {},
   "outputs": [],
   "source": [
    "chicago_zip_codes = [\n",
    "    60629, 60618, 60623, 60632, 60639, 60647, 60608, 60617, 60625, 60634, \n",
    "    60620, 60628, 60641, 60614, 60609, 60619, 60640, 60651, 60657, 60630, \n",
    "    60622, 60626, 60638, 60643, 60613, 60616, 60637, 60644, 60645, 60649, \n",
    "    60660, 60615, 60636, 60652, 60610, 60624, 60659, 60621, 60612, 60611, \n",
    "    60653, 60655, 60631, 60646, 60656, 60605, 60607, 60642, 60707, 60654, \n",
    "    60601, 60633, 60661, 60827, 60606, 60007, 60018, 60068, 60106, 60131, \n",
    "    60176, 60602, 60603, 60604, 60699, 60701, 60706, 60714, 60804, 60290, \n",
    "    60663, 60668, 60669, 60670, 60673, 60674, 60675, 60677, 60678, 60679, \n",
    "    60682, 60684, 60685, 60686, 60687, 60688, 60689, 60693, 60694, 60695, \n",
    "    60696, 60697, 60664, 60666, 60680, 60681, 60690, 60691\n",
    "]\n",
    "\n",
    "zip_codes = df['ZIP CODE']\n",
    "invalid_zip_codes = []\n",
    "\n",
    "    \n",
    "for item in zip_codes:\n",
    "    code_chicago = False\n",
    "    for i in chicago_zip_codes:\n",
    "        if(pd.isna(item)==False and str(item)==str(i)):\n",
    "            code_chicago=True\n",
    "            break\n",
    "    if(code_chicago==False):\n",
    "        invalid_zip_codes.append(item)"
   ]
  },
  {
   "cell_type": "code",
   "execution_count": 49,
   "id": "78ad36a1",
   "metadata": {
    "scrolled": true
   },
   "outputs": [
    {
     "name": "stdout",
     "output_type": "stream",
     "text": [
      "Number of ZIP codes that do not represent Chicago ZIP code is:  3990\n"
     ]
    }
   ],
   "source": [
    "print(\"Number of ZIP codes that do not represent Chicago ZIP code is: \", len(invalid_zip_codes))"
   ]
  },
  {
   "cell_type": "markdown",
   "id": "f33616d7",
   "metadata": {},
   "source": [
    "#### Ward\n",
    "City of Chicago has 50 Wards, hence number of Wards should be between 1 and 50. If there's another city instead oc Chicago, than the ward number may be something else. "
   ]
  },
  {
   "cell_type": "code",
   "execution_count": 50,
   "id": "d2283dda",
   "metadata": {},
   "outputs": [],
   "source": [
    "# https://www.chicago.gov/city/en/about/wards.html"
   ]
  },
  {
   "cell_type": "code",
   "execution_count": 51,
   "id": "a75bf337",
   "metadata": {},
   "outputs": [
    {
     "name": "stdout",
     "output_type": "stream",
     "text": [
      "0\n"
     ]
    }
   ],
   "source": [
    "ward = df['WARD']\n",
    "invalid_chicago_ward = []\n",
    "\n",
    "for item in ward:\n",
    "    if item<1 or item>50:\n",
    "        invalid_chicago_ward.append(item)\n",
    "\n",
    "print(len(invalid_chicago_ward))\n",
    "        "
   ]
  },
  {
   "cell_type": "markdown",
   "id": "81a3504a",
   "metadata": {},
   "source": [
    "#### Precinct\n",
    "Each Ward has X number of precincts."
   ]
  },
  {
   "cell_type": "code",
   "execution_count": 52,
   "id": "d8c6a801",
   "metadata": {},
   "outputs": [
    {
     "name": "stdout",
     "output_type": "stream",
     "text": [
      "Ward: No. Precincts  {1: 26, 2: 25, 3: 27, 4: 28, 5: 25, 6: 27, 7: 31, 8: 30, 9: 30, 10: 25, 11: 23, 12: 22, 13: 40, 14: 15, 15: 20, 16: 25, 17: 29, 18: 26, 19: 36, 20: 23, 21: 29, 22: 19, 23: 33, 24: 20, 25: 17, 26: 32, 27: 29, 28: 26, 29: 24, 30: 26, 31: 23, 32: 30, 33: 17, 34: 20, 35: 22, 36: 27, 37: 22, 38: 25, 39: 35, 40: 23, 41: 31, 42: 24, 43: 23, 44: 21, 45: 29, 46: 23, 47: 28, 48: 35, 49: 17, 50: 28}\n"
     ]
    }
   ],
   "source": [
    "precincts_by_ward = [ # Ward 1 has 26 Precincts, Ward 2 has 25 Precincts, Ward 3 has 27 Precincts, etc.\n",
    "        26, 25, 27, 28, 25, 27, 31, 30, 30, 25, \n",
    "        23, 22, 40, 15, 20, 25, 29, 26, 36, 23, \n",
    "        29, 19, 33, 20, 17, 32, 29, 26, 24, 26, \n",
    "        23, 30, 17, 20, 22, 27, 22, 25, 35, 23, \n",
    "        31, 24, 23, 21, 29, 23, 28, 35, 17, 28\n",
    "    ]\n",
    "# Create a dictionary where the keys are the ward numbers and the values are the corresponding number of precincts\n",
    "precincts_dict = {index + 1: precincts for index, precincts in enumerate(precincts_by_ward)}\n",
    "print(\"Ward: No. Precincts \", precincts_dict)             "
   ]
  },
  {
   "cell_type": "code",
   "execution_count": 53,
   "id": "f38718cb",
   "metadata": {},
   "outputs": [],
   "source": [
    "# ID_to_drop = []\n",
    "# for i in range(len(df['WARD'])):\n",
    "#         if(pd.isna(df.iloc[i]['WARD'])==False and pd.isna(df.iloc[i]['PRECINCT'])==False):\n",
    "#             if(int(df.iloc[i]['PRECINCT'])<0 or int(df.iloc[i]['PRECINCT'])>precincts_dict[df.iloc[i]['WARD']]):\n",
    "#                 ID_to_drop.append(df.iloc[i]['ID'])\n",
    "#             else:\n",
    "#                 pass\n",
    "# print(\"Invalid PRECINCT percentage: \", round(len(ID_to_drop)/len(df)*100.0, 2), \"%\")"
   ]
  },
  {
   "cell_type": "code",
   "execution_count": 54,
   "id": "23a24687",
   "metadata": {},
   "outputs": [],
   "source": [
    "# ID_to_drop = []\n",
    "# for i in range(len(df['WARD'])):\n",
    "#         if(pd.isna(df.iloc[i]['WARD'])==False and pd.isna(df.iloc[i]['PRECINCT'])==False):\n",
    "#             index_of_precinct = int(df.iloc[i]['WARD']) - 1 \n",
    "#             if(int(df.iloc[i]['PRECINCT'])<0 or int(df.iloc[i]['PRECINCT'])>precincts_by_ward[index_of_precinct]):\n",
    "#                 ID_to_drop.append(df.iloc[i]['ID'])\n",
    "#             else:\n",
    "#                 pass \n",
    "# print(\"Invalid PRECINCT percentage: \", round(len(ID_to_drop)/len(df)*100.0, 2), \"%\")"
   ]
  },
  {
   "cell_type": "markdown",
   "id": "012dd7da",
   "metadata": {},
   "source": [
    "#### Police District\n",
    "City of Chicago has 25 Police Districts. If the number is not between 1 and 25, it's possible the city is not Chicago."
   ]
  },
  {
   "cell_type": "code",
   "execution_count": 55,
   "id": "9a157635",
   "metadata": {},
   "outputs": [
    {
     "name": "stdout",
     "output_type": "stream",
     "text": [
      "Number of police districts that are possibly invalid (not in Chicago):  2\n",
      "[0.0, 26.0]\n"
     ]
    }
   ],
   "source": [
    "pol_district = df['POLICE DISTRICT']\n",
    "invalid_pol_district = []\n",
    "\n",
    "for item in pol_district:\n",
    "    if item<1 or item>25:\n",
    "        invalid_pol_district.append(item)\n",
    "\n",
    "print(\"Number of police districts that are possibly invalid (not in Chicago): \", len(invalid_pol_district))\n",
    "print(invalid_pol_district)"
   ]
  },
  {
   "cell_type": "markdown",
   "id": "6f005ac3",
   "metadata": {},
   "source": [
    "#### Ward Precinct"
   ]
  },
  {
   "cell_type": "code",
   "execution_count": 56,
   "id": "576c45d5",
   "metadata": {},
   "outputs": [],
   "source": [
    "w_p = df['WARD PRECINCT']\n",
    "precinct = df['PRECINCT']"
   ]
  },
  {
   "cell_type": "code",
   "execution_count": 57,
   "id": "13667562",
   "metadata": {},
   "outputs": [],
   "source": [
    "invalid_w_p = []\n",
    "for i in range(len(w_p)):\n",
    "    string_to_check = []\n",
    "    if(pd.isna(precinct[i])==True and pd.isna(ward[i])==False):\n",
    "        string_to_check = str(int(ward[i]))+'-'\n",
    "        if(w_p[i]!=string_to_check):\n",
    "            print(w_p[i], \" \", string_to_check)\n",
    "            invalid_w_p.append(w_p[i])\n",
    "    elif(pd.isna(precinct[i])==False and pd.isna(ward[i])==True):\n",
    "        string_to_check = '-'+str(int(precinct[i]))\n",
    "        if(w_p[i]!=string_to_check):\n",
    "            print(w_p[i], \" \", string_to_check)\n",
    "            invalid_w_p.append(w_p[i])\n",
    "    elif(pd.isna(precinct[i])==False and pd.isna(ward[i])==False):\n",
    "        string_to_check = str(int(ward[i]))+'-'+str(int(precinct[i]))\n",
    "        if(w_p[i]!=string_to_check):\n",
    "            print(w_p[i], \" \", string_to_check)\n",
    "            invalid_w_p.append(w_p[i])\n",
    "    elif(pd.isna(precinct[i])==True and pd.isna(ward[i])==True):\n",
    "        if(pd.isna(w_p[i])!=True):\n",
    "            invalid_w_p.append(w_p[i])"
   ]
  },
  {
   "cell_type": "code",
   "execution_count": 58,
   "id": "c4431f75",
   "metadata": {
    "scrolled": true
   },
   "outputs": [
    {
     "name": "stdout",
     "output_type": "stream",
     "text": [
      "Number of invalid Ward Precinct attributes:  0\n"
     ]
    }
   ],
   "source": [
    "print(\"Number of invalid Ward Precinct attributes: \", len(invalid_w_p))"
   ]
  },
  {
   "cell_type": "markdown",
   "id": "f7201adb",
   "metadata": {},
   "source": [
    "#### SSA"
   ]
  },
  {
   "cell_type": "code",
   "execution_count": 59,
   "id": "d99342b3",
   "metadata": {},
   "outputs": [
    {
     "name": "stdout",
     "output_type": "stream",
     "text": [
      "SSA that don't belong to Chicago:  411\n"
     ]
    }
   ],
   "source": [
    "numbers = [1, 2, 3, 4, 5, 7, 8, 10, 13, 16, 17, 18, 19, 20, 21, 22, 23, 24, 25, 26, 27, \n",
    "           28, 29, 31, 32, 33, 34, 35, 38, 39, 42, 43, 44, 45, 47, 48, 50, 51, 52, 54, \n",
    "           55, 56, 59, 60, 61, 62, 63, 69, 71, 72, 73, 75, 76, 77, 79, 80]\n",
    "\n",
    "ssa = df['SSA']\n",
    "ssa_chicago_invalid = []\n",
    "for item in ssa:\n",
    "    if item not in numbers and pd.isna(item)==False: #Because a lot of SSA is empty\n",
    "        ssa_chicago_invalid.append(item)\n",
    "    \n",
    "print(\"SSA that don't belong to Chicago: \", len(ssa_chicago_invalid))"
   ]
  },
  {
   "cell_type": "markdown",
   "id": "04ecf5e5",
   "metadata": {},
   "source": [
    "#### CITY"
   ]
  },
  {
   "cell_type": "code",
   "execution_count": 60,
   "id": "6f4b5bed",
   "metadata": {
    "scrolled": true
   },
   "outputs": [
    {
     "name": "stdout",
     "output_type": "stream",
     "text": [
      "CITY\n",
      "CHICAGO         50165\n",
      "CICERO             79\n",
      "SKOKIE             70\n",
      "NORTHBROOK         61\n",
      "DES PLAINES        59\n",
      "                ...  \n",
      "ONALASKA            1\n",
      "STEWARTVILLE        1\n",
      "HOLMDEL             1\n",
      "BETHPAGE            1\n",
      "CARLISLE            1\n",
      "Name: count, Length: 950, dtype: int64\n"
     ]
    }
   ],
   "source": [
    "unique_cities = df['CITY']\n",
    "count_unique_cities = unique_cities.value_counts()\n",
    "print((count_unique_cities)) # Not possible to check manually\n",
    "# Check for numbers! - done"
   ]
  },
  {
   "cell_type": "code",
   "execution_count": 61,
   "id": "0b21126c",
   "metadata": {
    "scrolled": true
   },
   "outputs": [
    {
     "name": "stdout",
     "output_type": "stream",
     "text": [
      "[]\n"
     ]
    }
   ],
   "source": [
    "unstandardized_cities = []\n",
    "for item in unique_cities:\n",
    "    if str(item).isupper()!=True or str(item).isdigit()==True: #checking for lowercase or numbers\n",
    "        unstandardized_cities.append(item)\n",
    "print(unstandardized_cities)"
   ]
  },
  {
   "cell_type": "markdown",
   "id": "80858abd",
   "metadata": {},
   "source": [
    "####  License Code and Description"
   ]
  },
  {
   "cell_type": "code",
   "execution_count": 62,
   "id": "43bb1e20",
   "metadata": {
    "scrolled": true
   },
   "outputs": [
    {
     "name": "stdout",
     "output_type": "stream",
     "text": [
      "60\n",
      "60\n",
      "60\n"
     ]
    }
   ],
   "source": [
    "license_code = df['LICENSE CODE'] # They are never blank, which is awesome\n",
    "license_des = df['LICENSE DESCRIPTION']\n",
    "\n",
    "pairs_of_code_des = []\n",
    "\n",
    "for i in range(len(license_code)):\n",
    "    pair = list(tuple([license_code[i], license_des[i]]))\n",
    "    if pair not in pairs_of_code_des:\n",
    "        pairs_of_code_des.append(pair)\n",
    "    \n",
    "print(len(pairs_of_code_des))\n",
    "print(license_code.nunique())\n",
    "print(license_des.nunique())"
   ]
  },
  {
   "cell_type": "markdown",
   "id": "8a31870c",
   "metadata": {},
   "source": [
    "Mapping of values is unique since the number of pairs equals to unique numbers of license code & description aswell."
   ]
  },
  {
   "cell_type": "markdown",
   "id": "5f1f9259",
   "metadata": {},
   "source": [
    "# Filtering Algorithm and spliting data to High, Medium and Low quality"
   ]
  },
  {
   "cell_type": "code",
   "execution_count": 63,
   "id": "6d0b40a2",
   "metadata": {},
   "outputs": [],
   "source": [
    "# High quality data"
   ]
  },
  {
   "cell_type": "code",
   "execution_count": 64,
   "id": "906b135e",
   "metadata": {
    "scrolled": false
   },
   "outputs": [
    {
     "name": "stdout",
     "output_type": "stream",
     "text": [
      "Size before and after removing duplicates based on ID:  54501 ,  54501\n"
     ]
    }
   ],
   "source": [
    "df_no_duplicates = df.drop_duplicates(subset=['ID'])\n",
    "print(\"Size before and after removing duplicates based on ID: \", len(df), \", \", len(df_no_duplicates))"
   ]
  },
  {
   "cell_type": "code",
   "execution_count": 65,
   "id": "8413c7fe",
   "metadata": {},
   "outputs": [
    {
     "name": "stdout",
     "output_type": "stream",
     "text": [
      "54501\n"
     ]
    }
   ],
   "source": [
    "print(df_no_duplicates['ID'].nunique())"
   ]
  },
  {
   "cell_type": "markdown",
   "id": "6a8e10f5",
   "metadata": {},
   "source": [
    "Checking non-blank attributes for invalid/unstandardized formats."
   ]
  },
  {
   "cell_type": "code",
   "execution_count": 95,
   "id": "f7f0805d",
   "metadata": {
    "scrolled": true
   },
   "outputs": [
    {
     "name": "stdout",
     "output_type": "stream",
     "text": [
      "Length after cleaning APPLICATION TYPE:  54457\n",
      "Length after cleaning CITY and STATE:  50124\n",
      "Length after cleaning ADDRESS:  45722\n",
      "Length after cleaning LEGAL NAME:  45722\n",
      "Length after ommiting blank DOING BUSINESS AS NAME attributes:  45700\n",
      "Length after ommiting blank BUSINESS ACTIVITY ID attributes:  42339\n",
      "Length after ommiting blank BUSINESS ACTIVITY attributes:  42339\n",
      "Length after ommiting blank LATITUDE attributes:  42157\n",
      "Length after ommiting blank LONGITUDE attributes:  42157\n",
      "Length after ommiting blank LOCATIONE attributes:  42157\n",
      "Length after cleaning Doing Business as Name:  38073\n",
      "Length after cleaning invalid ZIP CODE:  38050\n",
      "Length after cleaning invalid PRECINCT:  38050\n",
      "Length after cleaning invalid POLICE DISTRICT:  38049\n",
      "Length after cleaning invalid SSA:  37710\n",
      "Length after cleaning invalid LOCATION:  37679\n",
      "Percentage of high quality data: \n",
      "69.13 %\n"
     ]
    }
   ],
   "source": [
    "df_1 = cleaning_nonblank_attributes(df_no_duplicates, 1)\n",
    "#df_3 = df_1.copy() # Dataframe without duplicates and which has nonblank attributes valid and standardized\n",
    "df_2 = ommiting_blank_from_high_quality_data(df_1, 1) # Omitting attributes that could be blank and removing blank values from High quality subset.\n",
    "high_quality_data = final_cleaning_high_quality_data(df_2, 1) # Omitting invalid/unstandardized rows from the values that could be incorrect.\n",
    "print(\"Percentage of high quality data: \")\n",
    "percentage_high_quality_data = percentage(high_quality_data , df)"
   ]
  },
  {
   "cell_type": "markdown",
   "id": "02e5ff25",
   "metadata": {},
   "source": [
    "Percentage of high quality data"
   ]
  },
  {
   "cell_type": "code",
   "execution_count": 90,
   "id": "c5055add",
   "metadata": {},
   "outputs": [],
   "source": [
    "# not_high_quality = df[~df['ID'].isin(high_quality_data['ID'])]\n",
    "# not_high_quality.to_csv('C:/Users/lejla/OneDrive/Documents/GitHub/Data-Analysis-Chicago/not_high_quality_data.csv')"
   ]
  },
  {
   "cell_type": "code",
   "execution_count": 89,
   "id": "d674083c",
   "metadata": {},
   "outputs": [],
   "source": [
    "high_quality_data.to_csv('C:/Users/lejla/OneDrive/Documents/GitHub/Data-Analysis-Chicago/high_quality_data.csv')"
   ]
  },
  {
   "cell_type": "code",
   "execution_count": 92,
   "id": "4a06d752",
   "metadata": {},
   "outputs": [],
   "source": [
    "# Medium quality data"
   ]
  },
  {
   "cell_type": "code",
   "execution_count": 71,
   "id": "85633806",
   "metadata": {},
   "outputs": [
    {
     "name": "stdout",
     "output_type": "stream",
     "text": [
      "16822\n",
      "30.87 %\n",
      "30.865488706629236\n"
     ]
    }
   ],
   "source": [
    "# the rest of data\n",
    "medium_and_low = df[~df['ID'].isin(high_quality_data['ID'])] \n",
    "print(len(medium_and_low))\n",
    "print(percentage(medium_and_low , df))"
   ]
  },
  {
   "cell_type": "code",
   "execution_count": 93,
   "id": "a4d96daa",
   "metadata": {},
   "outputs": [
    {
     "name": "stdout",
     "output_type": "stream",
     "text": [
      "Length after cleaning APPLICATION TYPE:  16778\n",
      "Length after cleaning CITY and STATE:  12445\n",
      "Length after cleaning ADDRESS:  11724\n",
      "Length after cleaning Doing Business as Name:  11724\n",
      "Length after cleaning invalid LOCATION:  11688\n",
      "11688\n",
      "Percentage of medium quality data: \n",
      "21.45 %\n",
      "21.445478064622666\n"
     ]
    }
   ],
   "source": [
    "medium_quality_data = cleaning_invalid_important_attributes(medium_and_low, 1)\n",
    "print(len(df_4))\n",
    "print(\"Percentage of medium quality data: \")\n",
    "print(percentage(medium_quality_data, df))\n",
    "medium_quality_data.to_csv('C:/Users/lejla/OneDrive/Documents/GitHub/Data-Analysis-Chicago/medium_quality_data.csv')"
   ]
  },
  {
   "cell_type": "code",
   "execution_count": 94,
   "id": "f7501dfb",
   "metadata": {},
   "outputs": [
    {
     "name": "stdout",
     "output_type": "stream",
     "text": [
      "5134\n",
      "Percentage of low quality data: \n",
      "9.42 %\n",
      "9.420010642006568\n"
     ]
    }
   ],
   "source": [
    "low_quality_data = medium_and_low[~medium_and_low['ID'].isin(medium_quality_data['ID'])] \n",
    "print(len(low_quality_data))\n",
    "print(\"Percentage of low quality data: \")\n",
    "print(percentage(low_quality_data, df))"
   ]
  },
  {
   "cell_type": "code",
   "execution_count": 92,
   "id": "a4b19296",
   "metadata": {},
   "outputs": [],
   "source": [
    "low_quality_data.to_csv('C:/Users/lejla/OneDrive/Documents/GitHub/Data-Analysis-Chicago/low_quality_data.csv')"
   ]
  },
  {
   "cell_type": "code",
   "execution_count": 3,
   "id": "d46c6f9d",
   "metadata": {},
   "outputs": [
    {
     "data": {
      "image/png": "[encoded data removed]",
      "text/plain": [
       "<Figure size 640x480 with 1 Axes>"
      ]
     },
     "metadata": {},
     "output_type": "display_data"
    }
   ],
   "source": [
    "import matplotlib.pyplot as plt\n",
    "\n",
    "# Data\n",
    "x = ['High Quality', 'Medium Quality', 'Low Quality', 'Useless Data']\n",
    "y = [69, 22, 7, 2]\n",
    "\n",
    "# Define colors\n",
    "colors = ['limegreen', 'orange', 'red', 'lightgrey']\n",
    "\n",
    "# Create a pie chart with specified colors\n",
    "patches, texts = plt.pie(y, startangle=90, radius=1.2, colors=colors)\n",
    "labels = ['{0} - {1:1.0f} %'.format(i, j) for i, j in zip(x, y)]\n",
    "\n",
    "# Define the desired order of legend labels\n",
    "desired_order = ['High Quality', 'Medium Quality', 'Low Quality', 'Useless Data']\n",
    "\n",
    "# Sort legend labels based on their order in 'desired_order'\n",
    "patches, labels = zip(*sorted(zip(patches, labels), key=lambda x: desired_order.index(x[1].split(' - ')[0])))\n",
    "\n",
    "plt.legend(patches, labels, loc='best', bbox_to_anchor=(-0.1, 1.), fontsize=15)\n",
    "\n",
    "plt.savefig('piechart.png', bbox_inches='tight')\n",
    "plt.title('Distribution of data quality')\n",
    "plt.show()\n"
   ]
  },
  {
   "cell_type": "markdown",
   "id": "bf8727ba",
   "metadata": {},
   "source": [
    "Percentage of medium quality data"
   ]
  },
  {
   "cell_type": "markdown",
   "id": "30b3c682",
   "metadata": {},
   "source": [
    "### Exporting df for QGIS"
   ]
  },
  {
   "cell_type": "code",
   "execution_count": 101,
   "id": "7f99e25c",
   "metadata": {},
   "outputs": [],
   "source": [
    "# df_bus_act = df[(df['BUSINESS ACTIVITY ID'] == '775') | (df['BUSINESS ACTIVITY ID'] == '638') |\n",
    "#                 (df['BUSINESS ACTIVITY ID'] == '735') | (df['BUSINESS ACTIVITY ID'] == '781') |\n",
    "#                 (df['BUSINESS ACTIVITY ID'] == '904')]  \n",
    "# df_bus_act.to_csv('df_bus_act.csv')\n",
    "# print(len(df_bus_act))"
   ]
  },
  {
   "cell_type": "code",
   "execution_count": 102,
   "id": "7692ab83",
   "metadata": {},
   "outputs": [],
   "source": [
    "# df_ward = df[(df['WARD'] == float(42)) | (df['WARD'] == float(1)) |\n",
    "#                 (df['WARD'] == float(12)) | (df['WARD'] == float(34)) |\n",
    "#                 (df['WARD'] == float(27))] \n",
    "                                          \n",
    "# df_ward.to_csv('df_ward.csv')  \n",
    "                                          \n",
    "# print(len(df_ward))                                         "
   ]
  },
  {
   "cell_type": "code",
   "execution_count": 103,
   "id": "45ece2ac",
   "metadata": {},
   "outputs": [],
   "source": [
    "# df_bus_act = df[(df['LICENSE CODE'] == 1010) | (df['LICENSE CODE'] == 1006) |\n",
    "#                 (df['LICENSE CODE'] == 1475) | (df['LICENSE CODE'] == 1781) |\n",
    "#                 (df['LICENSE CODE'] == 4404)]  \n",
    "# df_bus_act.to_csv('df_bus_act.csv')\n",
    "# print(len(df_bus_act))"
   ]
  },
  {
   "cell_type": "markdown",
   "id": "b7c0c3ac",
   "metadata": {},
   "source": [
    "## Exploring Low quality data in order to improve them"
   ]
  },
  {
   "cell_type": "code",
   "execution_count": 117,
   "id": "6eb695ea",
   "metadata": {},
   "outputs": [
    {
     "name": "stdout",
     "output_type": "stream",
     "text": [
      "Length of low quality data dataframe:  5134\n",
      "Length of data which has documented APPLICATON TYPE attribute:  5090\n"
     ]
    }
   ],
   "source": [
    "print(\"Length of low quality data dataframe: \",len(low_quality_data))\n",
    "low_to_medium_data = low_quality_data[low_quality_data['APPLICATION TYPE']!='C_SBA']\n",
    "print(\"Length of data which has documented APPLICATON TYPE attribute: \", len(low_to_medium_data))"
   ]
  },
  {
   "cell_type": "code",
   "execution_count": 119,
   "id": "5dca7053",
   "metadata": {},
   "outputs": [
    {
     "name": "stdout",
     "output_type": "stream",
     "text": [
      "Length of dataframe which has ADDRESS that could be standardized:  4246\n"
     ]
    }
   ],
   "source": [
    "# If latitude and longitude are not empty, we can Google coordinated and get the address, if it's RESTRICTED\n",
    "for index, row in low_to_medium_data.iterrows():\n",
    "    if row['ADDRESS']=='[REDACTED FOR PRIVACY]' and (pd.isna(row['LATITUDE'])==True or pd.isna(row['LONGITUDE'])==True):\n",
    "        low_to_medium_data.drop(index, inplace = True)\n",
    "        \n",
    "print(\"Length of dataframe which has ADDRESS that could be standardized: \", len(low_to_medium_data))"
   ]
  },
  {
   "cell_type": "code",
   "execution_count": 120,
   "id": "393a1ecd",
   "metadata": {},
   "outputs": [
    {
     "name": "stdout",
     "output_type": "stream",
     "text": [
      "844\n"
     ]
    }
   ],
   "source": [
    "print(5090-4246)"
   ]
  },
  {
   "cell_type": "code",
   "execution_count": 121,
   "id": "c8d67796",
   "metadata": {},
   "outputs": [
    {
     "name": "stdout",
     "output_type": "stream",
     "text": [
      "4246\n"
     ]
    }
   ],
   "source": [
    "# There are 5 unstandardized IDs, if LICENSE TERM START DATE is non-blank, it could be manually made into standardized format\n",
    "\n",
    "for index, row in low_to_medium_data.iterrows():\n",
    "    if row['ID'] in unstandardized_id and pd.isna(row['LICENSE TERM START DATE'])==False:\n",
    "        print(row['ID', row['LICENSE TERM START DATE']])\n",
    "        low_to_medium_data.drop(index, inplace = True)\n",
    "        \n",
    "print(len(low_to_medium_data))\n"
   ]
  },
  {
   "cell_type": "code",
   "execution_count": 122,
   "id": "60e9f9ae",
   "metadata": {},
   "outputs": [
    {
     "name": "stdout",
     "output_type": "stream",
     "text": [
      "4246\n"
     ]
    }
   ],
   "source": [
    "print(len(low_to_medium_data))"
   ]
  },
  {
   "cell_type": "code",
   "execution_count": 123,
   "id": "f2e2cb42",
   "metadata": {},
   "outputs": [
    {
     "name": "stdout",
     "output_type": "stream",
     "text": [
      "82.70 %\n"
     ]
    }
   ],
   "source": [
    "x = percentage(low_to_medium_data, low_quality_data)"
   ]
  },
  {
   "cell_type": "markdown",
   "id": "1322785a",
   "metadata": {},
   "source": [
    "## Exploring Medium quality data in order to improve them\n"
   ]
  },
  {
   "cell_type": "code",
   "execution_count": 187,
   "id": "a76de327",
   "metadata": {},
   "outputs": [
    {
     "name": "stdout",
     "output_type": "stream",
     "text": [
      "11688\n",
      "3486\n"
     ]
    }
   ],
   "source": [
    "print(len(medium_quality_data))\n",
    "\n",
    "rows_with_empty_business_activity = medium_quality_data[medium_quality_data['BUSINESS ACTIVITY'].isna()]\n",
    "\n",
    "print(len(rows_with_empty_business_activity))"
   ]
  },
  {
   "cell_type": "code",
   "execution_count": null,
   "id": "8df30e61",
   "metadata": {},
   "outputs": [],
   "source": []
  }
 ],
 "metadata": {
  "kernelspec": {
   "display_name": "Python 3 (ipykernel)",
   "language": "python",
   "name": "python3"
  },
  "language_info": {
   "codemirror_mode": {
    "name": "ipython",
    "version": 3
   },
   "file_extension": ".py",
   "mimetype": "text/x-python",
   "name": "python",
   "nbconvert_exporter": "python",
   "pygments_lexer": "ipython3",
   "version": "3.11.5"
  }
 },
 "nbformat": 4,
 "nbformat_minor": 5
}
